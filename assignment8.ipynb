{
 "cells": [
  {
   "cell_type": "code",
   "execution_count": 1,
   "id": "e56a3a68",
   "metadata": {},
   "outputs": [
    {
     "name": "stdout",
     "output_type": "stream",
     "text": [
      "<class 'list'>\n"
     ]
    }
   ],
   "source": [
    "#2\n",
    "#a\n",
    "print(type([1,2]))"
   ]
  },
  {
   "cell_type": "code",
   "execution_count": 5,
   "id": "4a0dc1d5",
   "metadata": {},
   "outputs": [
    {
     "ename": "SyntaxError",
     "evalue": "closing parenthesis '}' does not match opening parenthesis '[' (2146024858.py, line 2)",
     "output_type": "error",
     "traceback": [
      "\u001b[1;36m  Cell \u001b[1;32mIn[5], line 2\u001b[1;36m\u001b[0m\n\u001b[1;33m    a= [1,2,3,None,(),[]}\u001b[0m\n\u001b[1;37m                        ^\u001b[0m\n\u001b[1;31mSyntaxError\u001b[0m\u001b[1;31m:\u001b[0m closing parenthesis '}' does not match opening parenthesis '['\n"
     ]
    }
   ],
   "source": [
    "#b\n",
    "a= [1,2,3,None,(),[]}\n",
    "print(a)"
   ]
  },
  {
   "cell_type": "code",
   "execution_count": 7,
   "id": "9dedc8aa",
   "metadata": {},
   "outputs": [
    {
     "name": "stdout",
     "output_type": "stream",
     "text": [
      "Sum= 6\n"
     ]
    }
   ],
   "source": [
    "#c\n",
    "A= [1,2,3,4,5]\n",
    "L=len(A) \n",
    "S=0 \n",
    "for I in range(1,L,2): \n",
    "    S+=A[I] \n",
    "print(\"Sum=\",S)\n"
   ]
  },
  {
   "cell_type": "code",
   "execution_count": 8,
   "id": "65f72c23",
   "metadata": {},
   "outputs": [
    {
     "name": "stdout",
     "output_type": "stream",
     "text": [
      "('PYTHON',)\n",
      "1\n",
      "3\n"
     ]
    }
   ],
   "source": [
    "#d\n",
    "t=tuple() \n",
    "t = t +(\"PYTHON\",) \n",
    "print(t)\n",
    "print(len(t) )\n",
    "t1=(10,20,30) \n",
    "print(len(t1))\n"
   ]
  },
  {
   "cell_type": "code",
   "execution_count": 11,
   "id": "4be3cdfc",
   "metadata": {},
   "outputs": [
    {
     "name": "stdout",
     "output_type": "stream",
     "text": [
      "[1, 4, 3, 0]\n",
      "['x', 'z', 't', 'q']\n",
      "[0, 1, 3, 4]\n",
      "[100, 0, 1, 3, 4]\n",
      "[100, 0, 1, 4]\n",
      "[100, 0, 1, 4, 7]\n",
      "[100, 0, 1, 4, 7, 'x', 'z', 't', 'q']\n",
      "['x', 'z', 't']\n",
      "[100, 0, 1, 4, 7, 4, 1, 6, 3]\n"
     ]
    }
   ],
   "source": [
    "#3.1\n",
    "ListA= [1,4,3,0]\n",
    "print(ListA)\n",
    "#3.2\n",
    "ListB= ['x','z','t','q']\n",
    "print(ListB)\n",
    "#3.3\n",
    "ListA.sort()\n",
    "#3.4\n",
    "print(ListA)\n",
    "#3.5\n",
    "ListA.insert(0,100)\n",
    "print(ListA)\n",
    "#3.6\n",
    "ListA.remove(3)\n",
    "print(ListA)\n",
    "#3.7\n",
    "ListA.append(7)\n",
    "print(ListA)\n",
    "#3.8\n",
    "ListC=ListA+ListB\n",
    "print(ListC)\n",
    "#3.9\n",
    "ListB.pop()\n",
    "print(ListB)\n",
    "#3.10\n",
    "ListA.extend([4,1,6,3])\n",
    "print(ListA)"
   ]
  },
  {
   "cell_type": "code",
   "execution_count": 27,
   "id": "a882ee92",
   "metadata": {},
   "outputs": [
    {
     "name": "stdout",
     "output_type": "stream",
     "text": [
      "['A', 'B', 'C', 'D', 'E']\n",
      "Enter another name F\n",
      "['A', 'B', 'C', 'D', 'E', 'F']\n",
      "Enter a number3\n",
      "D\n",
      "['Kamal', 'Sanjana', 'A', 'B', 'C', 'D', 'E', 'F']\n",
      "Enter another nameG\n",
      "['Kamal', 'Sanjana', 'A', 'B', 'C', 'D', 'E', 'F', 'G']\n",
      "['Kamal', 'Sanjana', 'A', 'B', 'C', 'D', 'E', 'F', 'G']\n",
      "['G', 'F', 'E', 'D', 'C', 'B', 'A', 'Sanjana', 'Kamal']\n",
      "['Kamal', 'Sanjana', 'A', 'B', 'C', 'D', 'E', 'F']\n"
     ]
    }
   ],
   "source": [
    "#4.1\n",
    "ListA = [\"A\",\"B\",\"C\",\"D\",\"E\"]\n",
    "print(ListA)\n",
    "#4.2\n",
    "a = input(\"Enter another name \")\n",
    "ListA.append(a)\n",
    "#4.3\n",
    "print(ListA)\n",
    "#4.4\n",
    "b = int(input(\"Enter a number\"))\n",
    "print(ListA[b])\n",
    "#4.5\n",
    "ListA = [\"Kamal\"] + [\"Sanjana\"] + ListA\n",
    "#4.6\n",
    "print(ListA)\n",
    "#4.7\n",
    "c = input(\"Enter another name\")\n",
    "if c in ListA:\n",
    "    ListA.remove(c)\n",
    "else:\n",
    "    ListA.append(c)\n",
    "print(ListA)\n",
    "#4.8\n",
    "ListB = ListA[::-1]\n",
    "#4.9\n",
    "print(ListA)\n",
    "print(ListB)\n",
    "#4.10\n",
    "ListA.pop()\n",
    "print(ListA)"
   ]
  },
  {
   "cell_type": "code",
   "execution_count": 28,
   "id": "5380a7e6",
   "metadata": {},
   "outputs": [
    {
     "name": "stdout",
     "output_type": "stream",
     "text": [
      "{'c'}\n"
     ]
    }
   ],
   "source": [
    "#5\n",
    "x = {\"a\",\"b\",\"c\"}\n",
    "y = {\"c\",\"d\",\"e\"}\n",
    "z = {\"f\",\"g\",\"c\"}\n",
    "\n",
    "result = x.intersection(y, z)\n",
    "print (result)\n"
   ]
  },
  {
   "cell_type": "code",
   "execution_count": 34,
   "id": "2e94b8a8",
   "metadata": {},
   "outputs": [
    {
     "name": "stdout",
     "output_type": "stream",
     "text": [
      "{50, 20, 40, 10, 60, 30}\n"
     ]
    }
   ],
   "source": [
    "#6\n",
    "T1 = {10,30,50}\n",
    "T2 = {20,40,60}\n",
    "T3 = T1.union(T2)\n",
    "print(T3)\n"
   ]
  },
  {
   "cell_type": "code",
   "execution_count": 40,
   "id": "68d75e38",
   "metadata": {},
   "outputs": [
    {
     "name": "stdout",
     "output_type": "stream",
     "text": [
      "It is true\n",
      "It is true\n"
     ]
    }
   ],
   "source": [
    "#7\n",
    "A = {\"a\",\"b\",\"d\",\"e\"}  \n",
    "B = {\"b\",\"c\",\"e\",\"f\"} \n",
    "C = {\"d\",\"e\",\"f\",\"g\"}\n",
    "# (i) Verify A ∩ (B ∪ C) = (A ∩ B) ∪ (A ∩ C)\n",
    "SetA = A.intersection(B.union(C))\n",
    "SetB = (A.intersection(B)).union(A.intersection(C))\n",
    "if SetA == SetB:\n",
    "    print(\"It is true\")\n",
    "else:\n",
    "    print(\"It is false\")\n",
    "# (ii) Verify A ∪ (B ∩ C) = (A ∪ B) ∩ (A ∪ C)\n",
    "SetC = A.union(B.intersection(C))\n",
    "SetD = (A.union(B)).intersection(A.union(C))\n",
    "if SetC == SetD:\n",
    "    print(\"It is true\")\n",
    "else:\n",
    "    print(\"It is false\")"
   ]
  },
  {
   "cell_type": "code",
   "execution_count": 49,
   "id": "48f656ea",
   "metadata": {},
   "outputs": [
    {
     "name": "stdout",
     "output_type": "stream",
     "text": [
      "{40, 50, 30}\n",
      "{70, 40, 10, 50, 20, 60, 30}\n",
      "A-B is  {10, 20}\n",
      "B-A is  {60, 70}\n",
      "The common elements are  {40, 50, 30}\n"
     ]
    }
   ],
   "source": [
    "#8.a\n",
    "set1 = {10,20,30,40,50}\n",
    "set2 = {30,40,50,60,70}\n",
    "Intersect = set1.intersection(set2)\n",
    "print(Intersect)\n",
    "#8.b\n",
    "Union = set1.union(set2)\n",
    "print(Union)\n",
    "#8.c\n",
    "A_dif_B = set1.difference(set2)\n",
    "print(\"A-B is \",A_dif_B)\n",
    "B_dif_A = set2.difference(set1)\n",
    "print(\"B-A is \",B_dif_A)\n",
    "#8.d\n",
    "if len(Intersect) == 0:\n",
    "    print(\"There exist no common elements\")\n",
    "else:\n",
    "    print(\"The common elements are \",Intersect)"
   ]
  },
  {
   "cell_type": "code",
   "execution_count": null,
   "id": "74f4f313",
   "metadata": {},
   "outputs": [],
   "source": []
  }
 ],
 "metadata": {
  "kernelspec": {
   "display_name": "Python 3 (ipykernel)",
   "language": "python",
   "name": "python3"
  },
  "language_info": {
   "codemirror_mode": {
    "name": "ipython",
    "version": 3
   },
   "file_extension": ".py",
   "mimetype": "text/x-python",
   "name": "python",
   "nbconvert_exporter": "python",
   "pygments_lexer": "ipython3",
   "version": "3.11.3"
  }
 },
 "nbformat": 4,
 "nbformat_minor": 5
}
