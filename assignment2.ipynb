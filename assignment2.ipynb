{
 "cells": [
  {
   "cell_type": "code",
   "execution_count": 2,
   "id": "8c672ec1",
   "metadata": {},
   "outputs": [
    {
     "name": "stdout",
     "output_type": "stream",
     "text": [
      "2\n"
     ]
    }
   ],
   "source": [
    "#6\n",
    "#a\n",
    "y=2.8\n",
    "b=int(y)\n",
    "print(b)"
   ]
  },
  {
   "cell_type": "code",
   "execution_count": 3,
   "id": "5b9de90a",
   "metadata": {},
   "outputs": [
    {
     "name": "stdout",
     "output_type": "stream",
     "text": [
      "20\n"
     ]
    }
   ],
   "source": [
    "#b\n",
    "x=\"10\"\n",
    "y=int(x)+10\n",
    "print(y)"
   ]
  },
  {
   "cell_type": "code",
   "execution_count": 4,
   "id": "3ac3858e",
   "metadata": {},
   "outputs": [
    {
     "name": "stdout",
     "output_type": "stream",
     "text": [
      "20.73\n"
     ]
    }
   ],
   "source": [
    "#c\n",
    "x=10.73\n",
    "y=int(x)\n",
    "print(x+y)"
   ]
  },
  {
   "cell_type": "code",
   "execution_count": 5,
   "id": "485c520f",
   "metadata": {},
   "outputs": [
    {
     "name": "stdout",
     "output_type": "stream",
     "text": [
      "1010\n"
     ]
    }
   ],
   "source": [
    "#d\n",
    "x=10E2\n",
    "y=10+int(x)\n",
    "print(y)"
   ]
  },
  {
   "cell_type": "code",
   "execution_count": 6,
   "id": "4255032e",
   "metadata": {},
   "outputs": [
    {
     "name": "stdout",
     "output_type": "stream",
     "text": [
      "Simple Interest is : 500.0\n"
     ]
    }
   ],
   "source": [
    "#7\n",
    "principal = 1000\n",
    "roi = 10\n",
    "time = 5\n",
    "simpleInterest = (principal*roi*time)/100\n",
    "print(\"Simple Interest is :\",simpleInterest)"
   ]
  },
  {
   "cell_type": "code",
   "execution_count": 7,
   "id": "a5bfffa9",
   "metadata": {},
   "outputs": [
    {
     "name": "stdout",
     "output_type": "stream",
     "text": [
      "hellouser\n",
      "hellouser\n"
     ]
    }
   ],
   "source": [
    "#8\n",
    "#a\n",
    "m1=text1='hello\\\n",
    "user'\n",
    "print(m1)\n",
    "print(text1)"
   ]
  },
  {
   "cell_type": "code",
   "execution_count": 9,
   "id": "816bd8e7",
   "metadata": {},
   "outputs": [
    {
     "name": "stdout",
     "output_type": "stream",
     "text": [
      "welcome\n",
      "to\n",
      "NIELIT\n"
     ]
    }
   ],
   "source": [
    "#b\n",
    "msg = '''welcome\n",
    "to\n",
    "NIELIT'''\n",
    "print(msg)"
   ]
  },
  {
   "cell_type": "code",
   "execution_count": 10,
   "id": "191c2c06",
   "metadata": {},
   "outputs": [
    {
     "name": "stdout",
     "output_type": "stream",
     "text": [
      "You like the fruit- : AppleMango\n"
     ]
    }
   ],
   "source": [
    "#c\n",
    "m1=text1='Apple\\\n",
    "Mango'\n",
    "print('You like the fruit- :',m1)"
   ]
  },
  {
   "cell_type": "code",
   "execution_count": 11,
   "id": "77267dd7",
   "metadata": {},
   "outputs": [
    {
     "ename": "TypeError",
     "evalue": "can only concatenate str (not \"int\") to str",
     "output_type": "error",
     "traceback": [
      "\u001b[1;31m---------------------------------------------------------------------------\u001b[0m",
      "\u001b[1;31mTypeError\u001b[0m                                 Traceback (most recent call last)",
      "Cell \u001b[1;32mIn[11], line 3\u001b[0m\n\u001b[0;32m      1\u001b[0m \u001b[38;5;66;03m#d\u001b[39;00m\n\u001b[0;32m      2\u001b[0m fruit\u001b[38;5;241m=\u001b[39m\u001b[38;5;124m'\u001b[39m\u001b[38;5;124mMango\u001b[39m\u001b[38;5;124m'\u001b[39m\n\u001b[1;32m----> 3\u001b[0m \u001b[38;5;28mprint\u001b[39m(fruit\u001b[38;5;241m+\u001b[39m\u001b[38;5;241m100\u001b[39m)\n",
      "\u001b[1;31mTypeError\u001b[0m: can only concatenate str (not \"int\") to str"
     ]
    }
   ],
   "source": [
    "#d\n",
    "fruit='Mango'\n",
    "print(fruit+100)"
   ]
  },
  {
   "cell_type": "code",
   "execution_count": 12,
   "id": "233b55c5",
   "metadata": {},
   "outputs": [
    {
     "name": "stdout",
     "output_type": "stream",
     "text": [
      "The value of a before swap is : 5\n",
      "The value of b before swap is : 6\n",
      "The value of a after swap is : 6\n",
      "The value of b after swap is : 5\n"
     ]
    }
   ],
   "source": [
    "#9\n",
    "a = 5\n",
    "b = 6\n",
    "print(\"The value of a before swap is :\",a)\n",
    "print(\"The value of b before swap is :\",b)\n",
    "a,b = b,a\n",
    "print(\"The value of a after swap is :\",a)\n",
    "print(\"The value of b after swap is :\",b)"
   ]
  },
  {
   "cell_type": "code",
   "execution_count": 14,
   "id": "f28b558c",
   "metadata": {},
   "outputs": [
    {
     "name": "stdout",
     "output_type": "stream",
     "text": [
      "12800.0\n"
     ]
    }
   ],
   "source": [
    "#10\n",
    "basic = 10000\n",
    "hra = (16/100)*basic\n",
    "da = (12/100)*basic\n",
    "gross_salary = basic+hra+da\n",
    "print(gross_salary)"
   ]
  },
  {
   "cell_type": "code",
   "execution_count": 15,
   "id": "be6c6a71",
   "metadata": {},
   "outputs": [
    {
     "name": "stdout",
     "output_type": "stream",
     "text": [
      "The sum of a, b and c is : 7.199999999999999\n"
     ]
    }
   ],
   "source": [
    "#11\n",
    "a = 1.2\n",
    "b = 2.4\n",
    "c = 3.6\n",
    "sum1 = a+b+c\n",
    "print(\"The sum of a, b and c is :\",sum1)"
   ]
  },
  {
   "cell_type": "code",
   "execution_count": 16,
   "id": "1a756e8e",
   "metadata": {},
   "outputs": [
    {
     "name": "stdout",
     "output_type": "stream",
     "text": [
      "The average of three numbers is : 60\n"
     ]
    }
   ],
   "source": [
    "#12\n",
    "a = 10\n",
    "b = 20\n",
    "c = 30\n",
    "avg = a+b+c\n",
    "print(\"The average of three numbers is :\",avg)"
   ]
  },
  {
   "cell_type": "code",
   "execution_count": 18,
   "id": "6e19b068",
   "metadata": {},
   "outputs": [
    {
     "name": "stdout",
     "output_type": "stream",
     "text": [
      "Enter the distance in kilometers10\n",
      "Kilometer into meter is : 10000 m\n",
      "kilometer into centrimeter is : 100000 cm\n",
      "kilometer into inch is : 393700 in\n",
      "kilometer into feet is : 32808.4 ft\n"
     ]
    }
   ],
   "source": [
    "#13\n",
    "kilo = int(input(\"Enter the distance in kilometers\"))\n",
    "meter = kilo*1000\n",
    "centrimeter = meter*10\n",
    "inch = kilo*39370\n",
    "feet = kilo*3280.84\n",
    "print(\"Kilometer into meter is :\",meter,\"m\")\n",
    "print(\"kilometer into centrimeter is :\",centrimeter,\"cm\")\n",
    "print(\"kilometer into inch is :\",inch,\"in\")\n",
    "print(\"kilometer into feet is :\",feet,\"ft\")"
   ]
  },
  {
   "cell_type": "code",
   "execution_count": 19,
   "id": "ed4bfb67",
   "metadata": {},
   "outputs": [
    {
     "name": "stdout",
     "output_type": "stream",
     "text": [
      "54\n"
     ]
    }
   ],
   "source": [
    "#14\n",
    "#a\n",
    "y=0x2c\n",
    "b = y + 10\n",
    "print(b)"
   ]
  },
  {
   "cell_type": "code",
   "execution_count": 20,
   "id": "faba2df8",
   "metadata": {},
   "outputs": [
    {
     "name": "stdout",
     "output_type": "stream",
     "text": [
      "16.5\n"
     ]
    }
   ],
   "source": [
    "#b\n",
    "x = 0o27\n",
    "y = x+10\n",
    "print(y/2)"
   ]
  },
  {
   "cell_type": "code",
   "execution_count": 21,
   "id": "1e9b35d7",
   "metadata": {},
   "outputs": [
    {
     "name": "stdout",
     "output_type": "stream",
     "text": [
      "230\n"
     ]
    }
   ],
   "source": [
    "#c\n",
    "x = 0x2A + 0xAA\n",
    "y = 0o22\n",
    "print(x+y)"
   ]
  },
  {
   "cell_type": "code",
   "execution_count": 22,
   "id": "2eb4964e",
   "metadata": {},
   "outputs": [
    {
     "ename": "SyntaxError",
     "evalue": "invalid octal literal (1732724903.py, line 2)",
     "output_type": "error",
     "traceback": [
      "\u001b[1;36m  Cell \u001b[1;32mIn[22], line 2\u001b[1;36m\u001b[0m\n\u001b[1;33m    x = 0x2a + 0o2A\u001b[0m\n\u001b[1;37m                 ^\u001b[0m\n\u001b[1;31mSyntaxError\u001b[0m\u001b[1;31m:\u001b[0m invalid octal literal\n"
     ]
    }
   ],
   "source": [
    "#d\n",
    "x = 0x2a + 0o2A\n",
    "y = x/2\n",
    "print(y)"
   ]
  },
  {
   "cell_type": "code",
   "execution_count": null,
   "id": "94ab1cc9",
   "metadata": {},
   "outputs": [],
   "source": []
  }
 ],
 "metadata": {
  "kernelspec": {
   "display_name": "Python 3 (ipykernel)",
   "language": "python",
   "name": "python3"
  },
  "language_info": {
   "codemirror_mode": {
    "name": "ipython",
    "version": 3
   },
   "file_extension": ".py",
   "mimetype": "text/x-python",
   "name": "python",
   "nbconvert_exporter": "python",
   "pygments_lexer": "ipython3",
   "version": "3.11.3"
  }
 },
 "nbformat": 4,
 "nbformat_minor": 5
}
