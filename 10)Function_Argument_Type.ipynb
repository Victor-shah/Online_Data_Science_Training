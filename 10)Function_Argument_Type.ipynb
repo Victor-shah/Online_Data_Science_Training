{
 "cells": [
  {
   "cell_type": "code",
   "execution_count": 1,
   "id": "3e113c30",
   "metadata": {},
   "outputs": [
    {
     "name": "stdout",
     "output_type": "stream",
     "text": [
      "The sum of 4 numbers are  40\n"
     ]
    }
   ],
   "source": [
    "#2\n",
    "sum1 = lambda a,b,c,d : a+b+c+d\n",
    "print(\"The sum of 4 numbers are \",sum1(5,5,10,20))"
   ]
  },
  {
   "cell_type": "code",
   "execution_count": 4,
   "id": "1c22a4dd",
   "metadata": {},
   "outputs": [
    {
     "name": "stdout",
     "output_type": "stream",
     "text": [
      "The are of circle is  78.5\n"
     ]
    }
   ],
   "source": [
    "#3\n",
    "area_cir = lambda r : 3.14*r*r\n",
    "print(\"The are of circle is \",area_cir(5))"
   ]
  },
  {
   "cell_type": "code",
   "execution_count": 12,
   "id": "0d67875a",
   "metadata": {},
   "outputs": [
    {
     "name": "stdout",
     "output_type": "stream",
     "text": [
      "The factorial is  120\n"
     ]
    }
   ],
   "source": [
    "#4\n",
    "x = lambda num : 1 if num <= 1 else num*x(num-1)\n",
    "print(\"The factorial is \",x(5))"
   ]
  },
  {
   "cell_type": "code",
   "execution_count": 23,
   "id": "959ce4ae",
   "metadata": {},
   "outputs": [
    {
     "name": "stdout",
     "output_type": "stream",
     "text": [
      "The maximum from the list is  4\n"
     ]
    }
   ],
   "source": [
    "#5\n",
    "maxi = lambda *lis : max(lis)\n",
    "lis = [1,2,3,4]\n",
    "print(\"The maximum from the list is \",maxi(*lis))"
   ]
  },
  {
   "cell_type": "code",
   "execution_count": 26,
   "id": "0515de2d",
   "metadata": {},
   "outputs": [
    {
     "name": "stdout",
     "output_type": "stream",
     "text": [
      "The maximum among the numbers are  6\n"
     ]
    }
   ],
   "source": [
    "#6\n",
    "def maxi(*args):\n",
    "    return max(args)\n",
    "print(\"The maximum among the numbers are \",maxi(5,1,2,6))"
   ]
  },
  {
   "cell_type": "code",
   "execution_count": 28,
   "id": "6848fb8f",
   "metadata": {},
   "outputs": [
    {
     "name": "stdout",
     "output_type": "stream",
     "text": [
      "Eligible to Vote\n"
     ]
    }
   ],
   "source": [
    "#7\n",
    "def eligible(**kargs):\n",
    "    if kargs['age'] >18:\n",
    "        return \"Eligible to Vote\"\n",
    "d = {\"name\":\"Victor\",\"age\":20,\"address\":\"Ghaziabad\"}\n",
    "print(eligible(**d))"
   ]
  },
  {
   "cell_type": "code",
   "execution_count": 42,
   "id": "6b0c7109",
   "metadata": {},
   "outputs": [
    {
     "name": "stdout",
     "output_type": "stream",
     "text": [
      "The sum of the passed arguments are  100\n"
     ]
    }
   ],
   "source": [
    "#8\n",
    "def SUM(*args):\n",
    "    sum1 = 0\n",
    "    for arg in args:\n",
    "        if isinstance(arg,int):\n",
    "            sum1 += arg\n",
    "    return sum1\n",
    "print(\"The sum of the passed arguments are \",SUM(10,20,'Ajay',30,'#rr',40,'50'))"
   ]
  },
  {
   "cell_type": "code",
   "execution_count": 49,
   "id": "07051437",
   "metadata": {},
   "outputs": [
    {
     "name": "stdout",
     "output_type": "stream",
     "text": [
      "Count for < 0 : 2\n",
      "Count for 0 - 50 : 3\n",
      "Count for 51 – 100 : 5\n",
      "Count for > 100 : 0\n"
     ]
    }
   ],
   "source": [
    "#9\n",
    "def count(*args):\n",
    "    a,b,c,d = 0,0,0,0\n",
    "    for arg in args:\n",
    "        if arg<0:\n",
    "            a +=1\n",
    "        elif arg <=50 and arg >=0:\n",
    "            b +=1\n",
    "        elif arg >50 and arg<=100:\n",
    "            c +=1\n",
    "        else :\n",
    "            d +=1\n",
    "    print(\"Count for < 0 :\",a)\n",
    "    print(\"Count for 0 - 50 :\",b)\n",
    "    print(\"Count for 51 – 100 :\",c)\n",
    "    print(\"Count for > 100 :\",d)\n",
    "lis = [-78,89,76,12,45,67,78,91,2,-5]\n",
    "count(*lis)"
   ]
  },
  {
   "cell_type": "code",
   "execution_count": null,
   "id": "f6c61a0d",
   "metadata": {},
   "outputs": [],
   "source": []
  }
 ],
 "metadata": {
  "kernelspec": {
   "display_name": "Python 3 (ipykernel)",
   "language": "python",
   "name": "python3"
  },
  "language_info": {
   "codemirror_mode": {
    "name": "ipython",
    "version": 3
   },
   "file_extension": ".py",
   "mimetype": "text/x-python",
   "name": "python",
   "nbconvert_exporter": "python",
   "pygments_lexer": "ipython3",
   "version": "3.11.3"
  }
 },
 "nbformat": 4,
 "nbformat_minor": 5
}
