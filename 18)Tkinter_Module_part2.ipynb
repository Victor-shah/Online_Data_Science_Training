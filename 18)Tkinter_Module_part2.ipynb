{
 "cells": [
  {
   "cell_type": "code",
   "execution_count": 2,
   "id": "0c61c084",
   "metadata": {},
   "outputs": [],
   "source": [
    "#2\n",
    "#Using the tkinter PhotoImage\n",
    "from tkinter import *\n",
    "from tkinter import filedialog as fd\n",
    "def load():\n",
    "    f= fd.askopenfilename()\n",
    "    v1.set(f)\n",
    "    return\n",
    "def show():\n",
    "    img= PhotoImage(file=v1.get())\n",
    "    L=Label(w, image=img)\n",
    "    L.grid(row=3,column=0)\n",
    "    L.image=img\n",
    "    return\n",
    "\n",
    "w = Tk()\n",
    "w.geometry(\"700x500\")\n",
    "v1=StringVar()\n",
    "Label(w, text='FileName').grid(row=1,column=0)\n",
    "Entry(w,text=v1).grid(row=1,column=1)\n",
    "Button(w, text='Load', command=load).grid(row=2,column=2)\n",
    "Button(w, text='Show', command=show).grid(row=2,column=3)\n",
    "w.mainloop()"
   ]
  },
  {
   "cell_type": "code",
   "execution_count": 3,
   "id": "c4bee954",
   "metadata": {},
   "outputs": [],
   "source": [
    "#3\n",
    "#Using the tkinter PhotoImage\n",
    "from tkinter import *\n",
    "from tkinter import filedialog as fd\n",
    "import pandas as pd\n",
    "import matplotlib.pyplot as plt\n",
    "def load():\n",
    "    f= fd.askopenfilename()\n",
    "    f1.set(f)\n",
    "    return\n",
    "def plotgraph():\n",
    "    df=pd.read_csv( f1.get())\n",
    "    fig=plt.figure()\n",
    "    if v1.get()==1 : plt.bar( df[ df.columns[0]] , df [ df.columns[1]] )\n",
    "    if v1.get()==2 : plt.plot(df[ df.columns[0]] , df [ df.columns[1]])\n",
    "    if v1.get()==3 : plt.scatter(df[ df.columns[0]] , df [ df.columns[1]])\n",
    "    plt.xticks(rotation=15)\n",
    "    plt.savefig('d:/g1.png')\n",
    "def show():\n",
    "    plotgraph()\n",
    "    img= PhotoImage(file='d:/g1.png')\n",
    "    L=Label(w, image=img)\n",
    "    L.grid(row=5,column=4)\n",
    "    L.image=img\n",
    "    return\n",
    "\n",
    "w = Tk()\n",
    "w.geometry(\"700x500\")\n",
    "v1=IntVar()\n",
    "f1=StringVar()\n",
    "v1.set(1)\n",
    "Label(w, text='FileName').grid(row=1,column=0)\n",
    "Entry(w,text=f1).grid(row=1,column=1)\n",
    "Button(w, text='Load CSV', command=load).grid(row=2,column=2)\n",
    "Radiobutton(w, text='Bar', variable=v1, value=1).grid(row=3, column=1)\n",
    "Radiobutton(w, text='Line', variable=v1, value=2).grid(row=3, column=2)\n",
    "Radiobutton(w, text='Scatter', variable=v1, value=3).grid(row=3, column=3)\n",
    "Button(w, text='Show Graph', command=show).grid(row=4,column=3)\n",
    "w.mainloop()"
   ]
  },
  {
   "cell_type": "code",
   "execution_count": null,
   "id": "7fe1ba2c",
   "metadata": {},
   "outputs": [],
   "source": []
  }
 ],
 "metadata": {
  "kernelspec": {
   "display_name": "Python 3 (ipykernel)",
   "language": "python",
   "name": "python3"
  },
  "language_info": {
   "codemirror_mode": {
    "name": "ipython",
    "version": 3
   },
   "file_extension": ".py",
   "mimetype": "text/x-python",
   "name": "python",
   "nbconvert_exporter": "python",
   "pygments_lexer": "ipython3",
   "version": "3.11.3"
  }
 },
 "nbformat": 4,
 "nbformat_minor": 5
}
