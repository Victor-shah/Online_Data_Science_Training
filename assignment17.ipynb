{
 "cells": [
  {
   "cell_type": "code",
   "execution_count": null,
   "id": "76d69141",
   "metadata": {},
   "outputs": [],
   "source": [
    "#2\n",
    "#Add any 2 numbers\n",
    "import tkinter as tk  \n",
    "from functools import partial  \n",
    "   \n",
    "   \n",
    "def call_result(label_result, n1, n2):  \n",
    "    num1 = (n1.get())  \n",
    "    num2 = (n2.get())  \n",
    "    result = int(num1)+int(num2)  \n",
    "    label_result.config(text=\"Result = %d\" % result)  \n",
    "    return  \n",
    "   \n",
    "root = tk.Tk()  \n",
    "root.geometry('400x200+100+200')  \n",
    "  \n",
    "root.title('Calculator')  \n",
    "   \n",
    "number1 = tk.StringVar()  \n",
    "number2 = tk.StringVar()  \n",
    "  \n",
    "labelNum1 = tk.Label(root, text=\"A\").grid(row=1, column=0)  \n",
    "  \n",
    "labelNum2 = tk.Label(root, text=\"B\").grid(row=2, column=0)\n",
    "labelResult = tk.Label(root)  \n",
    "  \n",
    "labelResult.grid(row=7, column=2)  \n",
    "  \n",
    "entryNum1 = tk.Entry(root, textvariable=number1).grid(row=1, column=2)  \n",
    "  \n",
    "entryNum2 = tk.Entry(root, textvariable=number2).grid(row=2, column=2)  \n",
    "  \n",
    "call_result = partial(call_result, labelResult, number1, number2)  \n",
    "  \n",
    "buttonCal = tk.Button(root, text=\"Calculate\", command=call_result).grid(row=3, column=0)  \n",
    "  \n",
    "root.mainloop()"
   ]
  },
  {
   "cell_type": "code",
   "execution_count": null,
   "id": "56bbeda8",
   "metadata": {},
   "outputs": [],
   "source": []
  }
 ],
 "metadata": {
  "kernelspec": {
   "display_name": "Python 3 (ipykernel)",
   "language": "python",
   "name": "python3"
  },
  "language_info": {
   "codemirror_mode": {
    "name": "ipython",
    "version": 3
   },
   "file_extension": ".py",
   "mimetype": "text/x-python",
   "name": "python",
   "nbconvert_exporter": "python",
   "pygments_lexer": "ipython3",
   "version": "3.11.3"
  }
 },
 "nbformat": 4,
 "nbformat_minor": 5
}
