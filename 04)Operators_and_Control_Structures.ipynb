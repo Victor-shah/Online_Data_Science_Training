{
 "cells": [
  {
   "cell_type": "code",
   "execution_count": 2,
   "id": "fe3b76b5",
   "metadata": {},
   "outputs": [
    {
     "name": "stdout",
     "output_type": "stream",
     "text": [
      "Enter the length of the rectangle 5\n",
      "Enter the breadth of the rectangle 10\n",
      "Enter the radius of the circle 6\n"
     ]
    }
   ],
   "source": [
    "#2\n",
    "l = int(input(\"Enter the length of the rectangle \"))\n",
    "b = int(input(\"Enter the breadth of the rectangle \"))\n",
    "r = int(input(\"Enter the radius of the circle \"))"
   ]
  },
  {
   "cell_type": "code",
   "execution_count": 3,
   "id": "21f5cb20",
   "metadata": {},
   "outputs": [
    {
     "name": "stdout",
     "output_type": "stream",
     "text": [
      "The area of the rectangle is  50\n",
      "The perimeter of the rectangle is  30\n",
      "The area of circle is  113.03999999999999\n",
      "The circumference of circle is 37.68\n"
     ]
    }
   ],
   "source": [
    "#\n",
    "pie = 3.14\n",
    "area_r = l*b\n",
    "perimeter_r = 2*(l+b)\n",
    "area_c = pie*r*r\n",
    "circum = 2*pie*r\n",
    "print(\"The area of the rectangle is \",area_r)\n",
    "print(\"The perimeter of the rectangle is \",perimeter_r)\n",
    "print(\"The area of circle is \",area_c)\n",
    "print(\"The circumference of circle is\",circum)"
   ]
  },
  {
   "cell_type": "code",
   "execution_count": 5,
   "id": "d92ec3cc",
   "metadata": {},
   "outputs": [
    {
     "name": "stdout",
     "output_type": "stream",
     "text": [
      "Enter the salary 500\n",
      "500.59999999999997\n"
     ]
    }
   ],
   "source": [
    "#4\n",
    "salary = int(input(\"Enter the salary \"))\n",
    "da = 40/100 #40%\n",
    "ra = 20/100 #20%\n",
    "gross_salary = salary+da+ra\n",
    "print(gross_salary)\n",
    "\n"
   ]
  },
  {
   "cell_type": "code",
   "execution_count": 6,
   "id": "d2c58ab9",
   "metadata": {},
   "outputs": [
    {
     "name": "stdout",
     "output_type": "stream",
     "text": [
      "Enter the first student marks 50\n",
      "Enter the second student marks 60\n",
      "Enter the third student marks 70\n",
      "Enter the fourth student marks 80\n",
      "Enter the fifth student marks 90\n"
     ]
    }
   ],
   "source": [
    "#5\n",
    "a = int(input(\"Enter the first student marks \"))\n",
    "b = int(input(\"Enter the second student marks \"))\n",
    "c = int(input(\"Enter the third student marks \"))\n",
    "d = int(input(\"Enter the fourth student marks \"))\n",
    "e = int(input(\"Enter the fifth student marks \"))\n",
    "aggregate = (a+b+c+d+e)/5\n",
    "percentage = (aggregate*100)\n",
    "print(aggregate)\n",
    "print(percentage)"
   ]
  },
  {
   "cell_type": "code",
   "execution_count": null,
   "id": "f146f1e8",
   "metadata": {},
   "outputs": [],
   "source": []
  }
 ],
 "metadata": {
  "kernelspec": {
   "display_name": "Python 3 (ipykernel)",
   "language": "python",
   "name": "python3"
  },
  "language_info": {
   "codemirror_mode": {
    "name": "ipython",
    "version": 3
   },
   "file_extension": ".py",
   "mimetype": "text/x-python",
   "name": "python",
   "nbconvert_exporter": "python",
   "pygments_lexer": "ipython3",
   "version": "3.11.3"
  }
 },
 "nbformat": 4,
 "nbformat_minor": 5
}
