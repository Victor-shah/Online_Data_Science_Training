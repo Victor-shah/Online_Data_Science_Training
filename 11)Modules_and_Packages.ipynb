{
 "cells": [
  {
   "cell_type": "code",
   "execution_count": 1,
   "id": "cd3d1eaa",
   "metadata": {},
   "outputs": [],
   "source": [
    "#2\n",
    "''' My_Number.py\n",
    "Module saved as different python file'''\n",
    "def sum1(a,b):\n",
    "    return a+b\n",
    "def avg(a,b,c):\n",
    "    return (a+b+c)/3\n",
    "def fact(n):\n",
    "    fact = 0\n",
    "    for i in range(1,n+1):\n",
    "        fact *= i\n",
    "    return fact"
   ]
  },
  {
   "cell_type": "code",
   "execution_count": 4,
   "id": "6ce09a35",
   "metadata": {},
   "outputs": [
    {
     "data": {
      "text/plain": [
       "' f1() f2()'"
      ]
     },
     "execution_count": 4,
     "metadata": {},
     "output_type": "execute_result"
    }
   ],
   "source": [
    "#3\n",
    "''' pkg '''\n",
    "''' mod.py '''\n",
    "''' f1()''' ''' f2()'''\n",
    "import sys\n",
    "sys.path.append(\"D:\\\\\")\n",
    "\n",
    "from mod import f1,f2\n",
    "\n",
    "Accessing F1 Module\n",
    "Accessing F2 Module\n"
   ]
  },
  {
   "cell_type": "code",
   "execution_count": null,
   "id": "87ef95cf",
   "metadata": {},
   "outputs": [],
   "source": [
    "#4\n",
    "''' Message.funny '''\n",
    "''' Modf1.py, Modf2.py, Modf3.py '''\n",
    "''' Message.curt '''\n",
    "''' Modc1.py, Modc2.py, Modc3.py'''\n",
    "import Message.funny*\n",
    "import Message.curt*\n",
    "print(Message.funny.modf1.f1())\n",
    "print(Message.funny.modf2.f2())\n",
    "print(Message.funny.modf3.f3())\n",
    "print(Message.curt.modc1.f4())\n",
    "print(Message.curt.modc2.f5())\n",
    "print(Message.curt.modc2.f6())\n",
    "\n",
    "Accessing F1 Module\n",
    "Accessing F2 Module\n",
    "Accessing F3 Module\n",
    "Accessing F4 Module\n",
    "Accessing F5 Module\n",
    "Accessing F6 Module\n"
   ]
  }
 ],
 "metadata": {
  "kernelspec": {
   "display_name": "Python 3 (ipykernel)",
   "language": "python",
   "name": "python3"
  },
  "language_info": {
   "codemirror_mode": {
    "name": "ipython",
    "version": 3
   },
   "file_extension": ".py",
   "mimetype": "text/x-python",
   "name": "python",
   "nbconvert_exporter": "python",
   "pygments_lexer": "ipython3",
   "version": "3.11.3"
  }
 },
 "nbformat": 4,
 "nbformat_minor": 5
}
