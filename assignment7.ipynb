{
 "cells": [
  {
   "cell_type": "code",
   "execution_count": 1,
   "id": "6942738d",
   "metadata": {},
   "outputs": [
    {
     "name": "stdout",
     "output_type": "stream",
     "text": [
      "noituloveR neerG\n"
     ]
    }
   ],
   "source": [
    "#2\n",
    "string = \"Green Revolution\"\n",
    "print(string[::-1])"
   ]
  },
  {
   "cell_type": "code",
   "execution_count": 4,
   "id": "d2e1ee8d",
   "metadata": {},
   "outputs": [
    {
     "name": "stdout",
     "output_type": "stream",
     "text": [
      "I like Gita's pink colour dress\n"
     ]
    }
   ],
   "source": [
    "#3\n",
    "#a\n",
    "print('I like Gita\\'s pink colour dress')\n",
    "#We use the ' after Gita to use the apostrophe symbol"
   ]
  },
  {
   "cell_type": "code",
   "execution_count": 5,
   "id": "716a5667",
   "metadata": {},
   "outputs": [
    {
     "data": {
      "text/plain": [
       "'H*nesty is the best p*licy'"
      ]
     },
     "execution_count": 5,
     "metadata": {},
     "output_type": "execute_result"
    }
   ],
   "source": [
    "#b\n",
    "str='Honesty is the best policy'\n",
    "str.replace('o','*')\n",
    "#with the help of the replace function we changing 'o' into '*' where ever it occurs"
   ]
  },
  {
   "cell_type": "code",
   "execution_count": 7,
   "id": "80b5ff65",
   "metadata": {},
   "outputs": [
    {
     "data": {
      "text/plain": [
       "True"
      ]
     },
     "execution_count": 7,
     "metadata": {},
     "output_type": "execute_result"
    }
   ],
   "source": [
    "#c\n",
    "str='Hello World'\n",
    "str.istitle( )\n",
    "#This function returns true when all the words first character is uppercase and rest are lowercase"
   ]
  },
  {
   "cell_type": "code",
   "execution_count": 9,
   "id": "e9404d80",
   "metadata": {},
   "outputs": [
    {
     "name": "stdout",
     "output_type": "stream",
     "text": [
      "up Discussion\n"
     ]
    }
   ],
   "source": [
    "#d\n",
    "str=\"Group Discussion\"\n",
    "print (str.lstrip(\"Gro\"))\n",
    "#This function strips the Gro \"from\" the above string"
   ]
  },
  {
   "cell_type": "code",
   "execution_count": 20,
   "id": "8d5c15b2",
   "metadata": {},
   "outputs": [
    {
     "name": "stdout",
     "output_type": "stream",
     "text": [
      "ming\n"
     ]
    }
   ],
   "source": [
    "#4\n",
    "str=\"Global Warming\"\n",
    "#a\n",
    "print(str[-4:])"
   ]
  },
  {
   "cell_type": "code",
   "execution_count": 21,
   "id": "ccada319",
   "metadata": {},
   "outputs": [
    {
     "name": "stdout",
     "output_type": "stream",
     "text": [
      "al Wa\n"
     ]
    }
   ],
   "source": [
    "#b\n",
    "print(str[4:9])"
   ]
  },
  {
   "cell_type": "code",
   "execution_count": 23,
   "id": "92a71104",
   "metadata": {},
   "outputs": [
    {
     "name": "stdout",
     "output_type": "stream",
     "text": [
      "False\n"
     ]
    }
   ],
   "source": [
    "#c\n",
    "print(str.isalnum())"
   ]
  },
  {
   "cell_type": "code",
   "execution_count": 25,
   "id": "e15dd61f",
   "metadata": {},
   "outputs": [
    {
     "name": "stdout",
     "output_type": "stream",
     "text": [
      "Global War\n"
     ]
    }
   ],
   "source": [
    "#d\n",
    "print(str[:-4])"
   ]
  },
  {
   "cell_type": "code",
   "execution_count": 27,
   "id": "ea28ede5",
   "metadata": {},
   "outputs": [
    {
     "name": "stdout",
     "output_type": "stream",
     "text": [
      "al Warming\n"
     ]
    }
   ],
   "source": [
    "#e\n",
    "print(str[4:])"
   ]
  },
  {
   "cell_type": "code",
   "execution_count": 28,
   "id": "dcdc1fa1",
   "metadata": {},
   "outputs": [
    {
     "name": "stdout",
     "output_type": "stream",
     "text": [
      "Wa\n"
     ]
    }
   ],
   "source": [
    "#f\n",
    "print(str[7:9])"
   ]
  },
  {
   "cell_type": "code",
   "execution_count": 29,
   "id": "69b1fdfc",
   "metadata": {},
   "outputs": [
    {
     "name": "stdout",
     "output_type": "stream",
     "text": [
      "GLOBAL WARMING\n"
     ]
    }
   ],
   "source": [
    "#g\n",
    "print(str.upper())"
   ]
  },
  {
   "cell_type": "code",
   "execution_count": 30,
   "id": "4d066eef",
   "metadata": {},
   "outputs": [
    {
     "name": "stdout",
     "output_type": "stream",
     "text": [
      "True\n"
     ]
    }
   ],
   "source": [
    "#h\n",
    "print(str.istitle())"
   ]
  },
  {
   "cell_type": "code",
   "execution_count": 31,
   "id": "f877f119",
   "metadata": {},
   "outputs": [
    {
     "name": "stdout",
     "output_type": "stream",
     "text": [
      "Glob*l W*rming\n"
     ]
    }
   ],
   "source": [
    "#i\n",
    "print(str.replace('a','*'))"
   ]
  },
  {
   "cell_type": "code",
   "execution_count": 44,
   "id": "de0fef2e",
   "metadata": {},
   "outputs": [
    {
     "name": "stdout",
     "output_type": "stream",
     "text": [
      "The total number of uppercase are:  1\n",
      "The total number of lowercase are:  7\n",
      "The total number of special characters are:  4\n",
      "The total number of digits are:  3\n"
     ]
    }
   ],
   "source": [
    "#5\n",
    "str1 = \"P@#yn26at^&i5ve\"\n",
    "num = ['1','2','3','4','5','6','7','8','9','0']\n",
    "count,special = 0,0\n",
    "upper, lower= 0,0\n",
    "for i in str1:\n",
    "    if i in num:\n",
    "        count +=1\n",
    "    elif ord(i)>=65 and ord(i)<=90:\n",
    "        upper +=1\n",
    "    elif ord(i)>=97 and ord(i)<=122:\n",
    "        lower +=1\n",
    "    else:\n",
    "        special +=1\n",
    "print(\"The total number of uppercase are: \",upper)\n",
    "print(\"The total number of lowercase are: \",lower)\n",
    "print(\"The total number of special characters are: \",special)\n",
    "print(\"The total number of digits are: \",count)"
   ]
  },
  {
   "cell_type": "code",
   "execution_count": 63,
   "id": "91e0d154",
   "metadata": {},
   "outputs": [
    {
     "name": "stdout",
     "output_type": "stream",
     "text": [
      "Enter the numbers 20 10 30 40 50 6 8 12\n",
      "The sum of the list is  176\n",
      "The average of the list is  22\n"
     ]
    }
   ],
   "source": [
    "#6\n",
    "x = input(\"Enter the numbers \")\n",
    "lst = list(map(int,x.split()))\n",
    "print(\"The sum of the list is \",sum(lst))\n",
    "print(\"The average of the list is \",sum(lst)//len(lst))"
   ]
  },
  {
   "cell_type": "code",
   "execution_count": 67,
   "id": "4687e0f8",
   "metadata": {},
   "outputs": [
    {
     "name": "stdout",
     "output_type": "stream",
     "text": [
      "a occured 4 times\n",
      "e occured 1 times\n",
      "i occured 2 times\n",
      "o occured 2 times\n",
      "u occured 1 times\n"
     ]
    }
   ],
   "source": [
    "#7\n",
    "String = \"Python is a Programming Language\"\n",
    "a,e,i,o,u = 0,0,0,0,0\n",
    "for j in String:\n",
    "    if j=='a':\n",
    "        a+=1\n",
    "    elif j=='e':\n",
    "        e+=1\n",
    "    elif j=='i':\n",
    "        i+=1\n",
    "    elif j=='o':\n",
    "        o+=1\n",
    "    elif j=='u':\n",
    "        u+=1\n",
    "print(\"a occured %d times\"%(a))\n",
    "print(\"e occured %d times\"%(e))\n",
    "print(\"i occured %d times\"%(i))\n",
    "print(\"o occured %d times\"%(o))\n",
    "print(\"u occured %d times\"%(u))"
   ]
  },
  {
   "cell_type": "code",
   "execution_count": 74,
   "id": "4a19630e",
   "metadata": {},
   "outputs": [
    {
     "name": "stdout",
     "output_type": "stream",
     "text": [
      "Vijay =  2\n",
      "Rakesh =  1\n"
     ]
    }
   ],
   "source": [
    "#8\n",
    "MainString = \"Ajay Vijay Sanjay Ajay Ajit Vijay Vikas Rakesh\"\n",
    "SearchString = \"Vijay Rakesh\"\n",
    "main = MainString.split()\n",
    "v,r = 0,0\n",
    "for i in main:\n",
    "    if i==\"Vijay\":\n",
    "        v +=1\n",
    "    elif i==\"Rakesh\":\n",
    "        r +=1\n",
    "print(\"Vijay = \",v)\n",
    "print(\"Rakesh = \",r)"
   ]
  },
  {
   "cell_type": "code",
   "execution_count": 76,
   "id": "60cc5492",
   "metadata": {},
   "outputs": [
    {
     "name": "stdout",
     "output_type": "stream",
     "text": [
      "3\n"
     ]
    }
   ],
   "source": [
    "#9\n",
    "MainString = \"Ajay Vijay Sanjay Ajay Ajit Vijay Vikas Rakesh\"\n",
    "main = MainString.split()\n",
    "count = 0\n",
    "for i in main:\n",
    "    if i[0]=='A':\n",
    "        count +=1\n",
    "print(count)"
   ]
  },
  {
   "cell_type": "code",
   "execution_count": null,
   "id": "219ef951",
   "metadata": {},
   "outputs": [],
   "source": []
  }
 ],
 "metadata": {
  "kernelspec": {
   "display_name": "Python 3 (ipykernel)",
   "language": "python",
   "name": "python3"
  },
  "language_info": {
   "codemirror_mode": {
    "name": "ipython",
    "version": 3
   },
   "file_extension": ".py",
   "mimetype": "text/x-python",
   "name": "python",
   "nbconvert_exporter": "python",
   "pygments_lexer": "ipython3",
   "version": "3.11.3"
  }
 },
 "nbformat": 4,
 "nbformat_minor": 5
}
