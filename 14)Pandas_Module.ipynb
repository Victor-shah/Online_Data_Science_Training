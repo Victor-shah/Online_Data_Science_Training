{
 "cells": [
  {
   "cell_type": "code",
   "execution_count": 1,
   "id": "b95a1aac",
   "metadata": {},
   "outputs": [
    {
     "name": "stdout",
     "output_type": "stream",
     "text": [
      "    X   Y   Z\n",
      "0  78  84  86\n",
      "1  85  94  97\n",
      "2  96  89  96\n",
      "3  80  83  72\n",
      "4  86  86  83\n"
     ]
    }
   ],
   "source": [
    "#2.a\n",
    "import pandas as pd\n",
    "df = pd.DataFrame({'X':[78,85,96,80,86], 'Y':[84,94,89,83,86],'Z':[86,97,96,72,83]})\n",
    "print(df)"
   ]
  },
  {
   "cell_type": "code",
   "execution_count": 2,
   "id": "de111104",
   "metadata": {},
   "outputs": [
    {
     "name": "stdout",
     "output_type": "stream",
     "text": [
      "A     100\n",
      "B     400\n",
      "C     900\n",
      "D    1600\n",
      "E    2500\n",
      "dtype: int64\n"
     ]
    }
   ],
   "source": [
    "#2.b\n",
    "S1=pd.Series([100,200,300,400,500],index=['A','B','C','D','E'])\n",
    "S2=pd.Series([1,2,3,4,5],index=['A','B','C','D','E'])\n",
    "print(S1*S2)"
   ]
  },
  {
   "cell_type": "code",
   "execution_count": 3,
   "id": "976ac614",
   "metadata": {},
   "outputs": [
    {
     "name": "stdout",
     "output_type": "stream",
     "text": [
      "[200 400]\n"
     ]
    }
   ],
   "source": [
    "#2.c\n",
    "import numpy as np\n",
    "array1=np.array([100,200,300,400,500,600,700])\n",
    "print(array1[1:5:2])"
   ]
  },
  {
   "cell_type": "code",
   "execution_count": 4,
   "id": "651ad303",
   "metadata": {},
   "outputs": [
    {
     "name": "stdout",
     "output_type": "stream",
     "text": [
      "    Name  Age\n",
      "0   Anuj   21\n",
      "1   Rama   25\n",
      "2  Kapil   22\n"
     ]
    }
   ],
   "source": [
    "#2.d\n",
    "data = [['Anuj',21],['Rama',25],['Kapil',22]]\n",
    "df = pd.DataFrame(data,columns=['Name','Age'])\n",
    "print (df)"
   ]
  },
  {
   "cell_type": "code",
   "execution_count": 5,
   "id": "e8f71700",
   "metadata": {},
   "outputs": [
    {
     "name": "stdout",
     "output_type": "stream",
     "text": [
      "Empty DataFrame\n",
      "Columns: []\n",
      "Index: []\n"
     ]
    }
   ],
   "source": [
    "#2.e\n",
    "df = pd.DataFrame()\n",
    "print (df)"
   ]
  },
  {
   "cell_type": "code",
   "execution_count": 6,
   "id": "be2c906c",
   "metadata": {},
   "outputs": [
    {
     "data": {
      "text/html": [
       "<div>\n",
       "<style scoped>\n",
       "    .dataframe tbody tr th:only-of-type {\n",
       "        vertical-align: middle;\n",
       "    }\n",
       "\n",
       "    .dataframe tbody tr th {\n",
       "        vertical-align: top;\n",
       "    }\n",
       "\n",
       "    .dataframe thead th {\n",
       "        text-align: right;\n",
       "    }\n",
       "</style>\n",
       "<table border=\"1\" class=\"dataframe\">\n",
       "  <thead>\n",
       "    <tr style=\"text-align: right;\">\n",
       "      <th></th>\n",
       "      <th>name</th>\n",
       "      <th>score</th>\n",
       "      <th>attempts</th>\n",
       "      <th>qualify</th>\n",
       "      <th>labels</th>\n",
       "    </tr>\n",
       "  </thead>\n",
       "  <tbody>\n",
       "    <tr>\n",
       "      <th>0</th>\n",
       "      <td>Anastasia</td>\n",
       "      <td>12.5</td>\n",
       "      <td>1</td>\n",
       "      <td>yes</td>\n",
       "      <td>a</td>\n",
       "    </tr>\n",
       "    <tr>\n",
       "      <th>1</th>\n",
       "      <td>Dima</td>\n",
       "      <td>9.0</td>\n",
       "      <td>3</td>\n",
       "      <td>no</td>\n",
       "      <td>b</td>\n",
       "    </tr>\n",
       "    <tr>\n",
       "      <th>2</th>\n",
       "      <td>Katherine</td>\n",
       "      <td>16.5</td>\n",
       "      <td>2</td>\n",
       "      <td>yes</td>\n",
       "      <td>c</td>\n",
       "    </tr>\n",
       "    <tr>\n",
       "      <th>3</th>\n",
       "      <td>James</td>\n",
       "      <td>NaN</td>\n",
       "      <td>3</td>\n",
       "      <td>no</td>\n",
       "      <td>d</td>\n",
       "    </tr>\n",
       "    <tr>\n",
       "      <th>4</th>\n",
       "      <td>Emily</td>\n",
       "      <td>9.0</td>\n",
       "      <td>2</td>\n",
       "      <td>no</td>\n",
       "      <td>e</td>\n",
       "    </tr>\n",
       "    <tr>\n",
       "      <th>5</th>\n",
       "      <td>Michael</td>\n",
       "      <td>20.0</td>\n",
       "      <td>3</td>\n",
       "      <td>yes</td>\n",
       "      <td>f</td>\n",
       "    </tr>\n",
       "    <tr>\n",
       "      <th>6</th>\n",
       "      <td>Matthew</td>\n",
       "      <td>14.5</td>\n",
       "      <td>1</td>\n",
       "      <td>yes</td>\n",
       "      <td>g</td>\n",
       "    </tr>\n",
       "    <tr>\n",
       "      <th>7</th>\n",
       "      <td>Laura</td>\n",
       "      <td>NaN</td>\n",
       "      <td>1</td>\n",
       "      <td>no</td>\n",
       "      <td>h</td>\n",
       "    </tr>\n",
       "    <tr>\n",
       "      <th>8</th>\n",
       "      <td>Kevin</td>\n",
       "      <td>8.0</td>\n",
       "      <td>2</td>\n",
       "      <td>no</td>\n",
       "      <td>i</td>\n",
       "    </tr>\n",
       "    <tr>\n",
       "      <th>9</th>\n",
       "      <td>Jonas</td>\n",
       "      <td>19.0</td>\n",
       "      <td>1</td>\n",
       "      <td>yes</td>\n",
       "      <td>j</td>\n",
       "    </tr>\n",
       "  </tbody>\n",
       "</table>\n",
       "</div>"
      ],
      "text/plain": [
       "        name  score  attempts qualify labels\n",
       "0  Anastasia   12.5         1     yes      a\n",
       "1       Dima    9.0         3      no      b\n",
       "2  Katherine   16.5         2     yes      c\n",
       "3      James    NaN         3      no      d\n",
       "4      Emily    9.0         2      no      e\n",
       "5    Michael   20.0         3     yes      f\n",
       "6    Matthew   14.5         1     yes      g\n",
       "7      Laura    NaN         1      no      h\n",
       "8      Kevin    8.0         2      no      i\n",
       "9      Jonas   19.0         1     yes      j"
      ]
     },
     "execution_count": 6,
     "metadata": {},
     "output_type": "execute_result"
    }
   ],
   "source": [
    "#3\n",
    "exam_data = {'name': ['Anastasia', 'Dima', 'Katherine', 'James', 'Emily','Michael',\\\n",
    "'Matthew', 'Laura', 'Kevin', 'Jonas'],'score': [12.5, 9, 16.5, np.nan, 9, 20, 14.5, np.nan, 8, 19],\\\n",
    "'attempts': [1, 3, 2, 3, 2, 3, 1, 1, 2, 1],\\\n",
    "'qualify': ['yes', 'no', 'yes', 'no', 'no', 'yes', 'yes', 'no', 'no', 'yes'],\\\n",
    "'labels' : ['a', 'b', 'c', 'd', 'e', 'f', 'g', 'h', 'i', 'j']}\n",
    "df = pd.DataFrame(exam_data)\n",
    "df"
   ]
  },
  {
   "cell_type": "code",
   "execution_count": 7,
   "id": "abd2445c",
   "metadata": {},
   "outputs": [
    {
     "name": "stdout",
     "output_type": "stream",
     "text": [
      "        name  score\n",
      "0  Anastasia   12.5\n",
      "1       Dima    9.0\n",
      "2  Katherine   16.5\n",
      "3      James    NaN\n",
      "4      Emily    9.0\n",
      "5    Michael   20.0\n",
      "6    Matthew   14.5\n",
      "7      Laura    NaN\n",
      "8      Kevin    8.0\n",
      "9      Jonas   19.0\n"
     ]
    }
   ],
   "source": [
    "#4\n",
    "exam_data = {'name': ['Anastasia', 'Dima', 'Katherine', 'James', 'Emily','Michael',\\\n",
    "'Matthew', 'Laura', 'Kevin', 'Jonas'],'score': [12.5, 9, 16.5, np.nan, 9, 20, 14.5, np.nan, 8, 19],\\\n",
    "'attempts': [1, 3, 2, 3, 2, 3, 1, 1, 2, 1],\\\n",
    "'qualify': ['yes', 'no', 'yes', 'no', 'no', 'yes', 'yes', 'no', 'no', 'yes'],\\\n",
    "'labels' : ['a', 'b', 'c', 'd', 'e', 'f', 'g', 'h', 'i', 'j']}\n",
    "df = pd.DataFrame(exam_data)\n",
    "df = df[[\"name\",\"score\"]]\n",
    "print(df)"
   ]
  },
  {
   "cell_type": "code",
   "execution_count": 8,
   "id": "cebdf6e7",
   "metadata": {},
   "outputs": [
    {
     "data": {
      "text/html": [
       "<div>\n",
       "<style scoped>\n",
       "    .dataframe tbody tr th:only-of-type {\n",
       "        vertical-align: middle;\n",
       "    }\n",
       "\n",
       "    .dataframe tbody tr th {\n",
       "        vertical-align: top;\n",
       "    }\n",
       "\n",
       "    .dataframe thead th {\n",
       "        text-align: right;\n",
       "    }\n",
       "</style>\n",
       "<table border=\"1\" class=\"dataframe\">\n",
       "  <thead>\n",
       "    <tr style=\"text-align: right;\">\n",
       "      <th></th>\n",
       "      <th>name</th>\n",
       "      <th>score</th>\n",
       "      <th>attempts</th>\n",
       "      <th>qualify</th>\n",
       "      <th>labels</th>\n",
       "    </tr>\n",
       "  </thead>\n",
       "  <tbody>\n",
       "    <tr>\n",
       "      <th>0</th>\n",
       "      <td>Anastasia</td>\n",
       "      <td>12.5</td>\n",
       "      <td>1</td>\n",
       "      <td>yes</td>\n",
       "      <td>a</td>\n",
       "    </tr>\n",
       "    <tr>\n",
       "      <th>1</th>\n",
       "      <td>Dima</td>\n",
       "      <td>9.0</td>\n",
       "      <td>3</td>\n",
       "      <td>no</td>\n",
       "      <td>b</td>\n",
       "    </tr>\n",
       "    <tr>\n",
       "      <th>2</th>\n",
       "      <td>Katherine</td>\n",
       "      <td>16.5</td>\n",
       "      <td>2</td>\n",
       "      <td>yes</td>\n",
       "      <td>c</td>\n",
       "    </tr>\n",
       "  </tbody>\n",
       "</table>\n",
       "</div>"
      ],
      "text/plain": [
       "        name  score  attempts qualify labels\n",
       "0  Anastasia   12.5         1     yes      a\n",
       "1       Dima    9.0         3      no      b\n",
       "2  Katherine   16.5         2     yes      c"
      ]
     },
     "execution_count": 8,
     "metadata": {},
     "output_type": "execute_result"
    }
   ],
   "source": [
    "#5\n",
    "exam_data = {'name': ['Anastasia', 'Dima', 'Katherine', 'James', 'Emily','Michael',\\\n",
    "'Matthew', 'Laura', 'Kevin', 'Jonas'],'score': [12.5, 9, 16.5, np.nan, 9, 20, 14.5, np.nan, 8, 19],\\\n",
    "'attempts': [1, 3, 2, 3, 2, 3, 1, 1, 2, 1],\\\n",
    "'qualify': ['yes', 'no', 'yes', 'no', 'no', 'yes', 'yes', 'no', 'no', 'yes'],\\\n",
    "'labels' : ['a', 'b', 'c', 'd', 'e', 'f', 'g', 'h', 'i', 'j']}\n",
    "df = pd.DataFrame(exam_data)\n",
    "df.head(3)"
   ]
  },
  {
   "cell_type": "code",
   "execution_count": 9,
   "id": "4fc7f20a",
   "metadata": {},
   "outputs": [
    {
     "name": "stdout",
     "output_type": "stream",
     "text": [
      "        name  score  attempts qualify labels\n",
      "1       Dima    9.0         3      no      b\n",
      "2  Katherine   16.5         2     yes      c\n",
      "3      James    NaN         3      no      d\n",
      "4      Emily    9.0         2      no      e\n",
      "5    Michael   20.0         3     yes      f\n",
      "8      Kevin    8.0         2      no      i\n"
     ]
    }
   ],
   "source": [
    "#6\n",
    "exam_data = {'name': ['Anastasia', 'Dima', 'Katherine', 'James', 'Emily','Michael',\\\n",
    "'Matthew', 'Laura', 'Kevin', 'Jonas'],'score': [12.5, 9, 16.5, np.nan, 9, 20, 14.5, np.nan, 8, 19],\\\n",
    "'attempts': [1, 3, 2, 3, 2, 3, 1, 1, 2, 1],\\\n",
    "'qualify': ['yes', 'no', 'yes', 'no', 'no', 'yes', 'yes', 'no', 'no', 'yes'],\\\n",
    "'labels' : ['a', 'b', 'c', 'd', 'e', 'f', 'g', 'h', 'i', 'j']}\n",
    "df = pd.DataFrame(exam_data)\n",
    "df = df[df['attempts']>=2]\n",
    "print(df)"
   ]
  },
  {
   "cell_type": "code",
   "execution_count": 10,
   "id": "f18a6971",
   "metadata": {},
   "outputs": [
    {
     "data": {
      "text/plain": [
       "(10, 5)"
      ]
     },
     "execution_count": 10,
     "metadata": {},
     "output_type": "execute_result"
    }
   ],
   "source": [
    "#7\n",
    "exam_data = {'name': ['Anastasia', 'Dima', 'Katherine', 'James', 'Emily','Michael',\\\n",
    "'Matthew', 'Laura', 'Kevin', 'Jonas'],'score': [12.5, 9, 16.5, np.nan, 9, 20, 14.5, np.nan, 8, 19],\\\n",
    "'attempts': [1, 3, 2, 3, 2, 3, 1, 1, 2, 1],\\\n",
    "'qualify': ['yes', 'no', 'yes', 'no', 'no', 'yes', 'yes', 'no', 'no', 'yes'],\\\n",
    "'labels' : ['a', 'b', 'c', 'd', 'e', 'f', 'g', 'h', 'i', 'j']}\n",
    "df = pd.DataFrame(exam_data)\n",
    "df.shape"
   ]
  },
  {
   "cell_type": "code",
   "execution_count": 12,
   "id": "2d112229",
   "metadata": {},
   "outputs": [
    {
     "name": "stdout",
     "output_type": "stream",
     "text": [
      "The sum is  119.5\n"
     ]
    }
   ],
   "source": [
    "#8\n",
    "exam_data = {'name': ['Anastasia', 'Dima', 'Katherine', 'James', 'Emily','Michael',\\\n",
    "'Matthew', 'Laura', 'Kevin', 'Jonas'],'score': [12.5, 9, 16.5, 5, 9, 20, 14.5, 6, 8, 19],\\\n",
    "'attempts': [1, 3, 2, 3, 2, 3, 1, 1, 2, 1],\\\n",
    "'qualify': ['yes', 'no', 'yes', 'no', 'no', 'yes', 'yes', 'no', 'no', 'yes'],\\\n",
    "'labels' : ['a', 'b', 'c', 'd', 'e', 'f', 'g', 'h', 'i', 'j']}\n",
    "df = pd.DataFrame(exam_data)\n",
    "print(\"The sum is \",df['score'].sum())"
   ]
  },
  {
   "cell_type": "code",
   "execution_count": 13,
   "id": "d7b4fd4e",
   "metadata": {},
   "outputs": [
    {
     "name": "stdout",
     "output_type": "stream",
     "text": [
      "        name  score  attempts qualify labels\n",
      "5    Michael   20.0         3     yes      f\n",
      "6    Matthew   14.5         1     yes      g\n",
      "7      Laura    6.0         1      no      h\n",
      "8      Kevin    8.0         2      no      i\n",
      "2  Katherine   16.5         2     yes      c\n",
      "9      Jonas   19.0         1     yes      j\n",
      "3      James    5.0         3      no      d\n",
      "4      Emily    9.0         2      no      e\n",
      "1       Dima    9.0         3      no      b\n",
      "0  Anastasia   12.5         1     yes      a\n"
     ]
    }
   ],
   "source": [
    "#9\n",
    "df = df.sort_values(by=['name','score'],ascending=[False,True])\n",
    "print(df)"
   ]
  },
  {
   "cell_type": "code",
   "execution_count": 15,
   "id": "cb7267f0",
   "metadata": {},
   "outputs": [
    {
     "name": "stdout",
     "output_type": "stream",
     "text": [
      "        name  score qualify labels\n",
      "5    Michael   20.0     yes      f\n",
      "6    Matthew   14.5     yes      g\n",
      "7      Laura    6.0      no      h\n",
      "8      Kevin    8.0      no      i\n",
      "2  Katherine   16.5     yes      c\n",
      "9      Jonas   19.0     yes      j\n",
      "3      James    5.0      no      d\n",
      "4      Emily    9.0      no      e\n",
      "1       Dima    9.0      no      b\n",
      "0  Anastasia   12.5     yes      a\n"
     ]
    }
   ],
   "source": [
    "#10\n",
    "df = df.drop(['attempts'],axis = 1)\n",
    "print(df)"
   ]
  },
  {
   "cell_type": "code",
   "execution_count": null,
   "id": "5b174ae2",
   "metadata": {},
   "outputs": [],
   "source": []
  }
 ],
 "metadata": {
  "kernelspec": {
   "display_name": "Python 3 (ipykernel)",
   "language": "python",
   "name": "python3"
  },
  "language_info": {
   "codemirror_mode": {
    "name": "ipython",
    "version": 3
   },
   "file_extension": ".py",
   "mimetype": "text/x-python",
   "name": "python",
   "nbconvert_exporter": "python",
   "pygments_lexer": "ipython3",
   "version": "3.11.3"
  }
 },
 "nbformat": 4,
 "nbformat_minor": 5
}
