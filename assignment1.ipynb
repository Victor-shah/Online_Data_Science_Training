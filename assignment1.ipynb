{
 "cells": [
  {
   "cell_type": "code",
   "execution_count": 1,
   "id": "a45cc429",
   "metadata": {},
   "outputs": [
    {
     "name": "stdout",
     "output_type": "stream",
     "text": [
      "Orange\n",
      "Banana\n",
      "Cherry\n"
     ]
    }
   ],
   "source": [
    "#2)\n",
    "#a\n",
    "x,y,z = \"Orange\",\"Banana\",\"Cherry\"\n",
    "print(x)\n",
    "print(y)\n",
    "print(z)"
   ]
  },
  {
   "cell_type": "code",
   "execution_count": 2,
   "id": "9ee549a7",
   "metadata": {},
   "outputs": [
    {
     "name": "stdout",
     "output_type": "stream",
     "text": [
      "Orange\n",
      "Orange\n",
      "Orange\n"
     ]
    }
   ],
   "source": [
    "#b\n",
    "x=y=z=\"Orange\"\n",
    "print(x)\n",
    "print(y)\n",
    "print(z)"
   ]
  },
  {
   "cell_type": "code",
   "execution_count": 3,
   "id": "e3bece63",
   "metadata": {},
   "outputs": [
    {
     "ename": "TypeError",
     "evalue": "unsupported operand type(s) for +: 'int' and 'str'",
     "output_type": "error",
     "traceback": [
      "\u001b[1;31m---------------------------------------------------------------------------\u001b[0m",
      "\u001b[1;31mTypeError\u001b[0m                                 Traceback (most recent call last)",
      "Cell \u001b[1;32mIn[3], line 4\u001b[0m\n\u001b[0;32m      2\u001b[0m x\u001b[38;5;241m=\u001b[39m\u001b[38;5;241m10\u001b[39m\n\u001b[0;32m      3\u001b[0m y\u001b[38;5;241m=\u001b[39m\u001b[38;5;124m\"\u001b[39m\u001b[38;5;124mOrange\u001b[39m\u001b[38;5;124m\"\u001b[39m\n\u001b[1;32m----> 4\u001b[0m \u001b[38;5;28mprint\u001b[39m(x\u001b[38;5;241m+\u001b[39my)\n",
      "\u001b[1;31mTypeError\u001b[0m: unsupported operand type(s) for +: 'int' and 'str'"
     ]
    }
   ],
   "source": [
    "#c\n",
    "x=10\n",
    "y=\"Orange\"\n",
    "print(x+y)"
   ]
  },
  {
   "cell_type": "code",
   "execution_count": 4,
   "id": "18a17ac5",
   "metadata": {},
   "outputs": [
    {
     "ename": "TypeError",
     "evalue": "unsupported operand type(s) for +: 'int' and 'str'",
     "output_type": "error",
     "traceback": [
      "\u001b[1;31m---------------------------------------------------------------------------\u001b[0m",
      "\u001b[1;31mTypeError\u001b[0m                                 Traceback (most recent call last)",
      "Cell \u001b[1;32mIn[4], line 3\u001b[0m\n\u001b[0;32m      1\u001b[0m x\u001b[38;5;241m=\u001b[39m\u001b[38;5;241m10\u001b[39m\n\u001b[0;32m      2\u001b[0m y\u001b[38;5;241m=\u001b[39m\u001b[38;5;124m\"\u001b[39m\u001b[38;5;124m2020\u001b[39m\u001b[38;5;124m\"\u001b[39m\n\u001b[1;32m----> 3\u001b[0m \u001b[38;5;28mprint\u001b[39m(x\u001b[38;5;241m+\u001b[39my)\n",
      "\u001b[1;31mTypeError\u001b[0m: unsupported operand type(s) for +: 'int' and 'str'"
     ]
    }
   ],
   "source": [
    "x=10\n",
    "y=\"2020\"\n",
    "print(x+y)"
   ]
  },
  {
   "cell_type": "code",
   "execution_count": 5,
   "id": "91c506f7",
   "metadata": {},
   "outputs": [
    {
     "name": "stdout",
     "output_type": "stream",
     "text": [
      "My name is  Victor Shah\n",
      "My age is  20\n"
     ]
    }
   ],
   "source": [
    "#3\n",
    "name = \"Victor Shah\"\n",
    "age = 20\n",
    "print(\"My name is \",name)\n",
    "print(\"My age is \",age)"
   ]
  },
  {
   "cell_type": "code",
   "execution_count": 6,
   "id": "bf6c3a0a",
   "metadata": {},
   "outputs": [
    {
     "name": "stdout",
     "output_type": "stream",
     "text": [
      "Sum of a, b and c is  60\n"
     ]
    }
   ],
   "source": [
    "#4\n",
    "a = 10\n",
    "b = 20 \n",
    "c = 30\n",
    "sum = a+b+c\n",
    "print(\"Sum of a, b and c is \",sum)"
   ]
  },
  {
   "cell_type": "code",
   "execution_count": 7,
   "id": "4d603105",
   "metadata": {},
   "outputs": [
    {
     "name": "stdout",
     "output_type": "stream",
     "text": [
      "The area of rectangle is  600\n"
     ]
    }
   ],
   "source": [
    "#5 \n",
    "length = 20\n",
    "breadth = 30\n",
    "area = length*breadth\n",
    "print(\"The area of rectangle is \",area)"
   ]
  },
  {
   "cell_type": "code",
   "execution_count": 8,
   "id": "5253e640",
   "metadata": {},
   "outputs": [
    {
     "name": "stdout",
     "output_type": "stream",
     "text": [
      "Marks in Subject 1 : 30\n",
      "Marks in Subject 2 : 40\n",
      "Marks in Subject 3 : 50\n"
     ]
    }
   ],
   "source": [
    "#6\n",
    "#a\n",
    "m1=30\n",
    "m2=40\n",
    "m3=50\n",
    "print(\"Marks in Subject 1 :\",m1)\n",
    "print(\"Marks in Subject 2 :\",m2)\n",
    "print(\"Marks in Subject 3 :\",m3)"
   ]
  },
  {
   "cell_type": "code",
   "execution_count": 9,
   "id": "c9898633",
   "metadata": {},
   "outputs": [
    {
     "name": "stdout",
     "output_type": "stream",
     "text": [
      "You like the fruit- : Mango\n",
      "Result- : 20\n"
     ]
    }
   ],
   "source": [
    "#b\n",
    "a = 'Mango'\n",
    "print(\"You like the fruit- :\",a)\n",
    "a = 20\n",
    "print(\"Result- :\",a)"
   ]
  },
  {
   "cell_type": "code",
   "execution_count": 10,
   "id": "a09f589a",
   "metadata": {},
   "outputs": [
    {
     "name": "stdout",
     "output_type": "stream",
     "text": [
      "You like the fruit- : Mango\n"
     ]
    }
   ],
   "source": [
    "#c\n",
    "fruit='Mango'\n",
    "print('You like the fruit- :',fruit)"
   ]
  },
  {
   "cell_type": "code",
   "execution_count": 11,
   "id": "14397975",
   "metadata": {},
   "outputs": [
    {
     "name": "stdout",
     "output_type": "stream",
     "text": [
      "I like the  Mango do you like it\n"
     ]
    }
   ],
   "source": [
    "#d\n",
    "fruit='Mango'\n",
    "print('I like the ',fruit,'do you like it')"
   ]
  },
  {
   "cell_type": "code",
   "execution_count": null,
   "id": "e6338b5c",
   "metadata": {},
   "outputs": [],
   "source": []
  }
 ],
 "metadata": {
  "kernelspec": {
   "display_name": "Python 3 (ipykernel)",
   "language": "python",
   "name": "python3"
  },
  "language_info": {
   "codemirror_mode": {
    "name": "ipython",
    "version": 3
   },
   "file_extension": ".py",
   "mimetype": "text/x-python",
   "name": "python",
   "nbconvert_exporter": "python",
   "pygments_lexer": "ipython3",
   "version": "3.11.3"
  }
 },
 "nbformat": 4,
 "nbformat_minor": 5
}
