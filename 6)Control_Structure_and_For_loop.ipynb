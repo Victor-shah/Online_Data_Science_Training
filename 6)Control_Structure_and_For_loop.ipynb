{
 "cells": [
  {
   "cell_type": "code",
   "execution_count": 2,
   "id": "cc49e01a",
   "metadata": {},
   "outputs": [
    {
     "name": "stdout",
     "output_type": "stream",
     "text": [
      "Enter the value of m 2\n",
      "Enter the value of n 10\n",
      "The sum of even numbers are  20\n",
      "The sum of odd nubebers are  24\n"
     ]
    }
   ],
   "source": [
    "#2\n",
    "m = int(input(\"Enter the value of m \"))\n",
    "n = int(input(\"Enter the value of n \"))\n",
    "if m>n:\n",
    "    print(\"Invalid Input\")\n",
    "else:\n",
    "    odd = 0\n",
    "    eve = 0\n",
    "    for i in range(m,n):\n",
    "        if i%2==0:\n",
    "            eve +=i\n",
    "        else:\n",
    "            odd +=i\n",
    "    print(\"The sum of even numbers are \",eve)\n",
    "    print(\"The sum of odd nubebers are \",odd)"
   ]
  },
  {
   "cell_type": "code",
   "execution_count": 22,
   "id": "74358083",
   "metadata": {},
   "outputs": [
    {
     "name": "stdout",
     "output_type": "stream",
     "text": [
      "Enter the number 5\n",
      "5 10 15 20 25 30 35 40 45 50 "
     ]
    }
   ],
   "source": [
    "#3\n",
    "n = int(input(\"Enter the number \"))\n",
    "for i in range(1,11):\n",
    "    print(n*i,end = \" \")"
   ]
  },
  {
   "cell_type": "code",
   "execution_count": 4,
   "id": "0540246b",
   "metadata": {},
   "outputs": [
    {
     "name": "stdout",
     "output_type": "stream",
     "text": [
      "The sum of 10 natural numbers are  55\n"
     ]
    }
   ],
   "source": [
    "#4\n",
    "sum1 = 0\n",
    "for i in range(1,11):\n",
    "    sum1 +=i\n",
    "print(\"The sum of 10 natural numbers are \",sum1)"
   ]
  },
  {
   "cell_type": "code",
   "execution_count": 6,
   "id": "8e05dc0e",
   "metadata": {},
   "outputs": [
    {
     "name": "stdout",
     "output_type": "stream",
     "text": [
      "Enter the number 5\n",
      "The factorial of the number is  120\n"
     ]
    }
   ],
   "source": [
    "#5\n",
    "n = int(input(\"Enter the number \"))\n",
    "fact = 1\n",
    "for i in range(1,n+1):\n",
    "    fact *=i\n",
    "print(\"The factorial of the number is \",fact)"
   ]
  },
  {
   "cell_type": "code",
   "execution_count": 1,
   "id": "3b139c20",
   "metadata": {},
   "outputs": [
    {
     "name": "stdout",
     "output_type": "stream",
     "text": [
      "The number of vowels in the string are  6\n"
     ]
    }
   ],
   "source": [
    "#6\n",
    "string = \"My name is Victor Shah\"\n",
    "count = 0\n",
    "for i in string:\n",
    "    if i=='a' or i=='e' or i=='i' or i=='o' or i=='u':\n",
    "        count +=1\n",
    "print(\"The number of vowels in the string are \",count)"
   ]
  },
  {
   "cell_type": "code",
   "execution_count": 3,
   "id": "2cee60b6",
   "metadata": {},
   "outputs": [
    {
     "name": "stdout",
     "output_type": "stream",
     "text": [
      "The average of numbers in the list are  30.0\n"
     ]
    }
   ],
   "source": [
    "#7\n",
    "x= [10,20,30,40,50]\n",
    "sum1 = 0\n",
    "for i in x:\n",
    "    sum1 +=i\n",
    "avg = sum1/5\n",
    "print(\"The average of numbers in the list are \",avg)"
   ]
  },
  {
   "cell_type": "code",
   "execution_count": 6,
   "id": "87b6b0d4",
   "metadata": {},
   "outputs": [
    {
     "name": "stdout",
     "output_type": "stream",
     "text": [
      "1 3 5 7 9 11 13 15 17 19 "
     ]
    }
   ],
   "source": [
    "#8\n",
    "#a 1,3,5, ..... 19\n",
    "for i in range(1,20,2):\n",
    "    print(i,end=\" \")"
   ]
  },
  {
   "cell_type": "code",
   "execution_count": 7,
   "id": "de8fed9f",
   "metadata": {},
   "outputs": [
    {
     "name": "stdout",
     "output_type": "stream",
     "text": [
      "4 8 12 16 20 24 28 32 36 40 "
     ]
    }
   ],
   "source": [
    "#b 4,8,12,....40\n",
    "for i in range(1,11):\n",
    "    print(i*4,end = \" \")"
   ]
  },
  {
   "cell_type": "code",
   "execution_count": 8,
   "id": "f852456e",
   "metadata": {},
   "outputs": [
    {
     "name": "stdout",
     "output_type": "stream",
     "text": [
      "1 4 9 16 25 36 49 64 81 100 "
     ]
    }
   ],
   "source": [
    "#c 1,4,9,16, .... 100\n",
    "for i in range(1,11):\n",
    "    print(i*i, end = \" \")"
   ]
  },
  {
   "cell_type": "code",
   "execution_count": 9,
   "id": "132e8295",
   "metadata": {},
   "outputs": [
    {
     "name": "stdout",
     "output_type": "stream",
     "text": [
      "-5 -10 -15 -20 -25 -30 -35 -40 -45 -50 "
     ]
    }
   ],
   "source": [
    "#d -5,-10,-15, .... -50\n",
    "for i in range(1,11):\n",
    "    print(i*-5,end= \" \")"
   ]
  },
  {
   "cell_type": "code",
   "execution_count": 13,
   "id": "8c520e62",
   "metadata": {},
   "outputs": [
    {
     "name": "stdout",
     "output_type": "stream",
     "text": [
      "-20 -18 -16 -14 -12 -10 -8 -6 -4 -2 "
     ]
    }
   ],
   "source": [
    "#e -20,-18,-16,..... -2\n",
    "for i in range(10,0,-1):\n",
    "    print(i*-2,end = \" \")"
   ]
  },
  {
   "cell_type": "code",
   "execution_count": 15,
   "id": "c61678c2",
   "metadata": {},
   "outputs": [
    {
     "name": "stdout",
     "output_type": "stream",
     "text": [
      "Feb Apr Jun "
     ]
    }
   ],
   "source": [
    "#9\n",
    "Month = ['Jan', 'Feb', 'Mar', 'Apr' , 'May', 'Jun']\n",
    "for i in range(1,6,2):\n",
    "    print(Month[i],end = \" \")"
   ]
  },
  {
   "cell_type": "code",
   "execution_count": 21,
   "id": "1c2c4d2b",
   "metadata": {},
   "outputs": [
    {
     "name": "stdout",
     "output_type": "stream",
     "text": [
      "The sum of numbers at the even index of the sequence is  45\n"
     ]
    }
   ],
   "source": [
    "#10\n",
    "lst = range(1,20,2)\n",
    "sum1 = 0\n",
    "for i in range(0,10,2):\n",
    "    sum1 +=lst[i]\n",
    "print(\"The sum of numbers at the even index of the sequence is \",sum1)"
   ]
  },
  {
   "cell_type": "code",
   "execution_count": null,
   "id": "737374e9",
   "metadata": {},
   "outputs": [],
   "source": []
  }
 ],
 "metadata": {
  "kernelspec": {
   "display_name": "Python 3 (ipykernel)",
   "language": "python",
   "name": "python3"
  },
  "language_info": {
   "codemirror_mode": {
    "name": "ipython",
    "version": 3
   },
   "file_extension": ".py",
   "mimetype": "text/x-python",
   "name": "python",
   "nbconvert_exporter": "python",
   "pygments_lexer": "ipython3",
   "version": "3.11.3"
  }
 },
 "nbformat": 4,
 "nbformat_minor": 5
}
