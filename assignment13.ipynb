{
 "cells": [
  {
   "cell_type": "code",
   "execution_count": 2,
   "id": "ea7386ca",
   "metadata": {},
   "outputs": [
    {
     "name": "stdout",
     "output_type": "stream",
     "text": [
      "Original array:\n",
      "[1 2 3 4]\n",
      "Test if none of the elements of the said array is zero:\n",
      "True\n",
      "Original array:\n",
      "[0 1 2 3]\n",
      "Test if none of the elements of the said array is zero:\n",
      "False\n"
     ]
    }
   ],
   "source": [
    "#2\n",
    "import numpy as np\n",
    "x = np.array([1, 2, 3, 4])\n",
    "print(\"Original array:\")\n",
    "print(x)\n",
    "print(\"Test if none of the elements of the said array is zero:\")\n",
    "print(np.all(x))\n",
    "x = np.array([0, 1, 2, 3])\n",
    "print(\"Original array:\")\n",
    "print(x)\n",
    "print(\"Test if none of the elements of the said array is zero:\")\n",
    "print(np.all(x))"
   ]
  },
  {
   "cell_type": "code",
   "execution_count": 3,
   "id": "8da734e6",
   "metadata": {},
   "outputs": [
    {
     "name": "stdout",
     "output_type": "stream",
     "text": [
      "Original array\n",
      "[ 1  0 -1 -4]\n",
      "Test element-wise for positive or negative infinity:\n",
      "[ True  True False False]\n"
     ]
    }
   ],
   "source": [
    "#3\n",
    "import numpy as np\n",
    "a = np.array([1, 0, -1, -4])\n",
    "print(\"Original array\")\n",
    "print(a)\n",
    "print(\"Test element-wise for positive or negative infinity:\")\n",
    "print(a>=0)"
   ]
  },
  {
   "cell_type": "code",
   "execution_count": 4,
   "id": "ec355127",
   "metadata": {},
   "outputs": [
    {
     "name": "stdout",
     "output_type": "stream",
     "text": [
      "An array of 10 zeros:\n",
      "[0. 0. 0. 0. 0. 0. 0. 0. 0. 0.]\n",
      "An array of 10 ones:\n",
      "[1. 1. 1. 1. 1. 1. 1. 1. 1. 1.]\n",
      "An array of 10 fives:\n",
      "[5. 5. 5. 5. 5. 5. 5. 5. 5. 5.]\n"
     ]
    }
   ],
   "source": [
    "#4\n",
    "import numpy as np\n",
    "array=np.zeros(10)\n",
    "print(\"An array of 10 zeros:\")\n",
    "print(array)\n",
    "array=np.ones(10)\n",
    "print(\"An array of 10 ones:\")\n",
    "print(array)\n",
    "array=np.ones(10)*5\n",
    "print(\"An array of 10 fives:\")\n",
    "print(array)"
   ]
  },
  {
   "cell_type": "code",
   "execution_count": 5,
   "id": "7af93e0f",
   "metadata": {},
   "outputs": [
    {
     "name": "stdout",
     "output_type": "stream",
     "text": [
      "[[1. 1. 1. 1. 1. 1. 1. 1. 1. 1.]\n",
      " [1. 0. 0. 0. 0. 0. 0. 0. 0. 1.]\n",
      " [1. 0. 0. 0. 0. 0. 0. 0. 0. 1.]\n",
      " [1. 0. 0. 0. 0. 0. 0. 0. 0. 1.]\n",
      " [1. 0. 0. 0. 0. 0. 0. 0. 0. 1.]\n",
      " [1. 0. 0. 0. 0. 0. 0. 0. 0. 1.]\n",
      " [1. 0. 0. 0. 0. 0. 0. 0. 0. 1.]\n",
      " [1. 0. 0. 0. 0. 0. 0. 0. 0. 1.]\n",
      " [1. 0. 0. 0. 0. 0. 0. 0. 0. 1.]\n",
      " [1. 1. 1. 1. 1. 1. 1. 1. 1. 1.]]\n"
     ]
    }
   ],
   "source": [
    "#5\n",
    "import numpy as np\n",
    "x = np.ones((10, 10))\n",
    "x[1:-1, 1:-1] = 0\n",
    "print(x)"
   ]
  },
  {
   "cell_type": "code",
   "execution_count": 6,
   "id": "83e2e068",
   "metadata": {},
   "outputs": [
    {
     "name": "stdout",
     "output_type": "stream",
     "text": [
      "An array of 3 X 3 zeros:\n",
      "[[56  0 43]\n",
      " [29  2 33]\n",
      " [ 5  0  7]]\n",
      "An array of divisible by 3 and 5:\n",
      "[0 0]\n"
     ]
    }
   ],
   "source": [
    "#6\n",
    "import numpy as np\n",
    "array=np.random.randint(100 , size=(3,3))\n",
    "print(\"An array of 3 X 3 zeros:\")\n",
    "print(array)\n",
    "print(\"An array of divisible by 3 and 5:\")\n",
    "filter= (array%3==0) & (array%5==0 )\n",
    "print( array[ filter])"
   ]
  },
  {
   "cell_type": "code",
   "execution_count": 7,
   "id": "561b85d1",
   "metadata": {},
   "outputs": [
    {
     "name": "stdout",
     "output_type": "stream",
     "text": [
      "An array of 3 X 3 zeros:\n",
      "[[26  8 40]\n",
      " [34 49 63]\n",
      " [62 96 84]]\n",
      "An array of divisible by 3 and 5:\n",
      "[[ 0  0  0]\n",
      " [ 0 49 63]\n",
      " [ 0  0  0]]\n"
     ]
    }
   ],
   "source": [
    "#7\n",
    "import numpy as np\n",
    "array=np.random.randint(100 , size=(3,3))\n",
    "print(\"An array of 3 X 3 zeros:\")\n",
    "print(array)\n",
    "print(\"An array of divisible by 3 and 5:\")\n",
    "filter= (array%2==0)\n",
    "array[ filter]=0\n",
    "print(array)"
   ]
  },
  {
   "cell_type": "code",
   "execution_count": 8,
   "id": "5adfa897",
   "metadata": {},
   "outputs": [
    {
     "name": "stdout",
     "output_type": "stream",
     "text": [
      "[11 60 90 76 90]\n",
      "[0.06073634 0.0631316  0.85723803 0.98690537 0.01025718]\n",
      "[9 9 3 7 9]\n"
     ]
    }
   ],
   "source": [
    "#8\n",
    "x = np.random.randint(100, size=5)\n",
    "print(x)\n",
    "x1 = np.random.rand(5)\n",
    "print(x1)\n",
    "x2= np.random.choice([3, 5, 7, 9], size=5)\n",
    "print(x2)"
   ]
  },
  {
   "cell_type": "code",
   "execution_count": 13,
   "id": "d29a5ad8",
   "metadata": {},
   "outputs": [
    {
     "name": "stdout",
     "output_type": "stream",
     "text": [
      "Array A is \n",
      " [[59 58  1]\n",
      " [64 19 16]\n",
      " [17 64  7]]\n",
      "Array B is \n",
      " [[16 23  7]\n",
      " [81 24 36]\n",
      " [ 8 50 42]]\n",
      "The sum of two matrix is \n",
      " [[ 75  81   8]\n",
      " [145  43  52]\n",
      " [ 25 114  49]]\n",
      "The product of the two matrix is \n",
      " [[5650 2799 2543]\n",
      " [2691 2728 1804]\n",
      " [5512 2277 2717]]\n"
     ]
    }
   ],
   "source": [
    "#9\n",
    "A=np.random.randint(100 , size=(3,3))\n",
    "print(\"Array A is \\n\",A)\n",
    "B=np.random.randint(100 , size=(3,3))\n",
    "print(\"Array B is \\n\",B)\n",
    "print(\"The sum of two matrix is \\n\",np.add(A,B))\n",
    "print(\"The product of the two matrix is \\n\",np.dot(A,B))"
   ]
  },
  {
   "cell_type": "code",
   "execution_count": 14,
   "id": "f3bb95cd",
   "metadata": {},
   "outputs": [
    {
     "name": "stdout",
     "output_type": "stream",
     "text": [
      "Array A is \n",
      " [[84 40 28]\n",
      " [63 80  2]\n",
      " [86 95 56]]\n",
      "Array A after transpose is \n",
      " [[84 63 86]\n",
      " [40 80 95]\n",
      " [28  2 56]]\n"
     ]
    }
   ],
   "source": [
    "#10\n",
    "A=np.random.randint(100 , size=(3,3))\n",
    "print(\"Array A is \\n\",A)\n",
    "print(\"Array A after transpose is \\n\",np.transpose(A))"
   ]
  },
  {
   "cell_type": "code",
   "execution_count": null,
   "id": "efb36ce0",
   "metadata": {},
   "outputs": [],
   "source": []
  }
 ],
 "metadata": {
  "kernelspec": {
   "display_name": "Python 3 (ipykernel)",
   "language": "python",
   "name": "python3"
  },
  "language_info": {
   "codemirror_mode": {
    "name": "ipython",
    "version": 3
   },
   "file_extension": ".py",
   "mimetype": "text/x-python",
   "name": "python",
   "nbconvert_exporter": "python",
   "pygments_lexer": "ipython3",
   "version": "3.11.3"
  }
 },
 "nbformat": 4,
 "nbformat_minor": 5
}
