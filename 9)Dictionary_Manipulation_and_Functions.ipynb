{
 "cells": [
  {
   "cell_type": "code",
   "execution_count": 2,
   "id": "50c015c2",
   "metadata": {},
   "outputs": [
    {
     "name": "stdout",
     "output_type": "stream",
     "text": [
      "Keys =  dict_keys(['name', 'age', 'class'])\n",
      "Values =  dict_values(['Ajay', 40, 5])\n"
     ]
    }
   ],
   "source": [
    "#2\n",
    "d= {'name':'Ajay','age':40,'class':5}\n",
    "print(\"Keys = \",d.keys())\n",
    "print(\"Values = \",d.values())"
   ]
  },
  {
   "cell_type": "code",
   "execution_count": 6,
   "id": "017eaf9f",
   "metadata": {},
   "outputs": [
    {
     "name": "stdout",
     "output_type": "stream",
     "text": [
      "The number of keys are  6\n",
      "The number of values are  6\n",
      "The sum of values are  210\n"
     ]
    }
   ],
   "source": [
    "#3\n",
    "T= {1:10,2:20,3:30,4:40,5:50,6:60}\n",
    "print(\"The number of keys are \",len(T))\n",
    "print(\"The number of values are \",len(T))\n",
    "sum1 = 0\n",
    "for i in T:\n",
    "    sum1 +=T[i]\n",
    "print(\"The sum of values are \",sum1)"
   ]
  },
  {
   "cell_type": "code",
   "execution_count": 1,
   "id": "198f619a",
   "metadata": {},
   "outputs": [
    {
     "name": "stdout",
     "output_type": "stream",
     "text": [
      "{'Mango': 40, 'Banana': 50, 'Apple': 100}\n"
     ]
    }
   ],
   "source": [
    "#4\n",
    "Key = ['Mango','Banana','Apple']\n",
    "Value = [40, 50,100]\n",
    "# x = zip(Key,Value)\n",
    "d = dict(zip(Key,Value))\n",
    "print(d)"
   ]
  },
  {
   "cell_type": "code",
   "execution_count": 1,
   "id": "de7a8b4f",
   "metadata": {},
   "outputs": [
    {
     "name": "stdout",
     "output_type": "stream",
     "text": [
      "{'odd': 6, 'even': 4}\n"
     ]
    }
   ],
   "source": [
    "#5\n",
    "n= [11,12,13,14,15,21,22,23,24,25]\n",
    "d = {}\n",
    "odd,even = 0,0\n",
    "for i in n:\n",
    "    if i%2==0:\n",
    "        even +=1\n",
    "    else:\n",
    "        odd +=1\n",
    "d['odd'] = odd\n",
    "d['even'] = even\n",
    "print(d)"
   ]
  },
  {
   "cell_type": "code",
   "execution_count": 12,
   "id": "6fe550b5",
   "metadata": {},
   "outputs": [
    {
     "name": "stdout",
     "output_type": "stream",
     "text": [
      "The area of rectangle is  20\n"
     ]
    }
   ],
   "source": [
    "#6\n",
    "def area_rec(l,b):\n",
    "    return l*b\n",
    "print(\"The area of rectangle is \",area_rec(4,5))"
   ]
  },
  {
   "cell_type": "code",
   "execution_count": 13,
   "id": "f2f288a5",
   "metadata": {},
   "outputs": [
    {
     "name": "stdout",
     "output_type": "stream",
     "text": [
      "The area of circle is  78.5\n"
     ]
    }
   ],
   "source": [
    "#7\n",
    "def area_cir(r):\n",
    "    pie = 3.14\n",
    "    return pie*r*r\n",
    "print(\"The area of circle is \",area_cir(5))"
   ]
  },
  {
   "cell_type": "code",
   "execution_count": 15,
   "id": "99582f6f",
   "metadata": {},
   "outputs": [
    {
     "name": "stdout",
     "output_type": "stream",
     "text": [
      "The factorial is  120\n"
     ]
    }
   ],
   "source": [
    "#8\n",
    "def fact(n):\n",
    "    fact = 1;\n",
    "    for i in range(1,n+1):\n",
    "        fact *=i\n",
    "    return fact\n",
    "print(\"The factorial is \",fact(5))"
   ]
  },
  {
   "cell_type": "code",
   "execution_count": 18,
   "id": "d207d866",
   "metadata": {},
   "outputs": [
    {
     "name": "stdout",
     "output_type": "stream",
     "text": [
      "The sum of first 10 natural numbers are  55\n"
     ]
    }
   ],
   "source": [
    "#9\n",
    "def sum_of():\n",
    "    sum1 = 0\n",
    "    for i in range(1,11):\n",
    "        sum1 +=i\n",
    "    return sum1\n",
    "print(\"The sum of first 10 natural numbers are \",sum_of())"
   ]
  },
  {
   "cell_type": "code",
   "execution_count": 19,
   "id": "83c83808",
   "metadata": {},
   "outputs": [
    {
     "name": "stdout",
     "output_type": "stream",
     "text": [
      "The sum of 4 numbers are  40\n"
     ]
    }
   ],
   "source": [
    "#10\n",
    "def sum_of_4(a,b,c,d):\n",
    "    return a+b+c+d\n",
    "print(\"The sum of 4 numbers are \",sum_of_4(5,5,10,20))"
   ]
  },
  {
   "cell_type": "code",
   "execution_count": null,
   "id": "ea838d14",
   "metadata": {},
   "outputs": [],
   "source": []
  }
 ],
 "metadata": {
  "kernelspec": {
   "display_name": "Python 3 (ipykernel)",
   "language": "python",
   "name": "python3"
  },
  "language_info": {
   "codemirror_mode": {
    "name": "ipython",
    "version": 3
   },
   "file_extension": ".py",
   "mimetype": "text/x-python",
   "name": "python",
   "nbconvert_exporter": "python",
   "pygments_lexer": "ipython3",
   "version": "3.11.3"
  }
 },
 "nbformat": 4,
 "nbformat_minor": 5
}
