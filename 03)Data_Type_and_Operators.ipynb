{
 "cells": [
  {
   "cell_type": "code",
   "execution_count": 1,
   "id": "fa268272",
   "metadata": {},
   "outputs": [
    {
     "name": "stdout",
     "output_type": "stream",
     "text": [
      "Hello NIELIT!Hello\n"
     ]
    }
   ],
   "source": [
    "#2\n",
    "#a\n",
    "str = 'Hello NIELIT!'\n",
    "b = str + 'Hello'\n",
    "print(b)"
   ]
  },
  {
   "cell_type": "code",
   "execution_count": 3,
   "id": "30352257",
   "metadata": {},
   "outputs": [
    {
     "name": "stdout",
     "output_type": "stream",
     "text": [
      "Hello NIELIT!Hello NIELIT!\n"
     ]
    }
   ],
   "source": [
    "#b\n",
    "str = 'Hello NIELIT!'\n",
    "b = str*2\n",
    "print(b)"
   ]
  },
  {
   "cell_type": "code",
   "execution_count": 4,
   "id": "c4f51003",
   "metadata": {},
   "outputs": [
    {
     "name": "stdout",
     "output_type": "stream",
     "text": [
      "llIE\n"
     ]
    }
   ],
   "source": [
    "#c\n",
    "str = 'Hello NIELIT!'\n",
    "b = str[2:4] + str[7:9]\n",
    "print(b)"
   ]
  },
  {
   "cell_type": "code",
   "execution_count": 5,
   "id": "15242d29",
   "metadata": {},
   "outputs": [
    {
     "name": "stdout",
     "output_type": "stream",
     "text": [
      "IE\n"
     ]
    }
   ],
   "source": [
    "#d\n",
    "str = 'Hello NIELIT!'\n",
    "b = str[2:4] +str[7:9]\n",
    "print(b[2:4])"
   ]
  },
  {
   "cell_type": "code",
   "execution_count": 6,
   "id": "02a91b1f",
   "metadata": {},
   "outputs": [
    {
     "ename": "TypeError",
     "evalue": "can only concatenate list (not \"str\") to list",
     "output_type": "error",
     "traceback": [
      "\u001b[1;31m---------------------------------------------------------------------------\u001b[0m",
      "\u001b[1;31mTypeError\u001b[0m                                 Traceback (most recent call last)",
      "Cell \u001b[1;32mIn[6], line 4\u001b[0m\n\u001b[0;32m      1\u001b[0m \u001b[38;5;66;03m#3\u001b[39;00m\n\u001b[0;32m      2\u001b[0m \u001b[38;5;66;03m#a\u001b[39;00m\n\u001b[0;32m      3\u001b[0m x \u001b[38;5;241m=\u001b[39m [\u001b[38;5;124m'\u001b[39m\u001b[38;5;124mabcd\u001b[39m\u001b[38;5;124m'\u001b[39m,\u001b[38;5;241m786\u001b[39m,\u001b[38;5;241m2.23\u001b[39m,\u001b[38;5;124m'\u001b[39m\u001b[38;5;124mjohn\u001b[39m\u001b[38;5;124m'\u001b[39m,\u001b[38;5;241m70.2\u001b[39m]\n\u001b[1;32m----> 4\u001b[0m b \u001b[38;5;241m=\u001b[39m x \u001b[38;5;241m+\u001b[39m \u001b[38;5;124m'\u001b[39m\u001b[38;5;124mHello\u001b[39m\u001b[38;5;124m'\u001b[39m\n\u001b[0;32m      5\u001b[0m \u001b[38;5;28mprint\u001b[39m(b)\n",
      "\u001b[1;31mTypeError\u001b[0m: can only concatenate list (not \"str\") to list"
     ]
    }
   ],
   "source": [
    "#3\n",
    "#a\n",
    "x = ['abcd',786,2.23,'john',70.2]\n",
    "b = x + 'Hello'\n",
    "print(b)"
   ]
  },
  {
   "cell_type": "code",
   "execution_count": 7,
   "id": "6e25f294",
   "metadata": {},
   "outputs": [
    {
     "name": "stdout",
     "output_type": "stream",
     "text": [
      "['abcd', 786, 2.23, 'john', 70.2, 'abcd', 786, 2.23, 'john', 70.2]\n"
     ]
    }
   ],
   "source": [
    "#b\n",
    "x = ['abcd',786,2.23,'john',70.2]\n",
    "b = x*2\n",
    "print(b)"
   ]
  },
  {
   "cell_type": "code",
   "execution_count": 8,
   "id": "5dddc4c3",
   "metadata": {},
   "outputs": [
    {
     "name": "stdout",
     "output_type": "stream",
     "text": [
      "788.23\n"
     ]
    }
   ],
   "source": [
    "#c\n",
    "x = ['abcd',786,2.23,'john',70.2]\n",
    "b = x[1]+x[2]\n",
    "print(b)"
   ]
  },
  {
   "cell_type": "code",
   "execution_count": 9,
   "id": "c4f994c9",
   "metadata": {},
   "outputs": [
    {
     "name": "stdout",
     "output_type": "stream",
     "text": [
      "102.23\n"
     ]
    }
   ],
   "source": [
    "#d\n",
    "x = ['abcd',786,2.23,'john',70.2]\n",
    "x[1] = 100\n",
    "b = x[1] + x[2]\n",
    "print(b)"
   ]
  },
  {
   "cell_type": "code",
   "execution_count": 10,
   "id": "04f529af",
   "metadata": {},
   "outputs": [
    {
     "ename": "TypeError",
     "evalue": "can only concatenate tuple (not \"str\") to tuple",
     "output_type": "error",
     "traceback": [
      "\u001b[1;31m---------------------------------------------------------------------------\u001b[0m",
      "\u001b[1;31mTypeError\u001b[0m                                 Traceback (most recent call last)",
      "Cell \u001b[1;32mIn[10], line 4\u001b[0m\n\u001b[0;32m      1\u001b[0m \u001b[38;5;66;03m#4\u001b[39;00m\n\u001b[0;32m      2\u001b[0m \u001b[38;5;66;03m#a\u001b[39;00m\n\u001b[0;32m      3\u001b[0m x \u001b[38;5;241m=\u001b[39m (\u001b[38;5;124m'\u001b[39m\u001b[38;5;124mabcd\u001b[39m\u001b[38;5;124m'\u001b[39m,\u001b[38;5;241m786\u001b[39m,\u001b[38;5;241m2.23\u001b[39m,\u001b[38;5;124m'\u001b[39m\u001b[38;5;124mjohn\u001b[39m\u001b[38;5;124m'\u001b[39m,\u001b[38;5;241m70.2\u001b[39m)\n\u001b[1;32m----> 4\u001b[0m b \u001b[38;5;241m=\u001b[39m x \u001b[38;5;241m+\u001b[39m \u001b[38;5;124m'\u001b[39m\u001b[38;5;124mHello\u001b[39m\u001b[38;5;124m'\u001b[39m\n\u001b[0;32m      5\u001b[0m \u001b[38;5;28mprint\u001b[39m(b)\n",
      "\u001b[1;31mTypeError\u001b[0m: can only concatenate tuple (not \"str\") to tuple"
     ]
    }
   ],
   "source": [
    "#4\n",
    "#a\n",
    "x = ('abcd',786,2.23,'john',70.2)\n",
    "b = x + 'Hello'\n",
    "print(b)"
   ]
  },
  {
   "cell_type": "code",
   "execution_count": 11,
   "id": "a2088cb3",
   "metadata": {},
   "outputs": [
    {
     "name": "stdout",
     "output_type": "stream",
     "text": [
      "('abcd', 786, 2.23, 'john', 70.2, 'abcd', 786, 2.23, 'john', 70.2)\n"
     ]
    }
   ],
   "source": [
    "#b\n",
    "x = ('abcd',786,2.23,'john',70.2)\n",
    "b = x*2\n",
    "print(b)"
   ]
  },
  {
   "cell_type": "code",
   "execution_count": 12,
   "id": "3e063914",
   "metadata": {},
   "outputs": [
    {
     "name": "stdout",
     "output_type": "stream",
     "text": [
      "788.23\n"
     ]
    }
   ],
   "source": [
    "#c\n",
    "x = ('abcd',786,2.23,'john',70.2)\n",
    "b = x[1]+x[2]\n",
    "print(b)"
   ]
  },
  {
   "cell_type": "code",
   "execution_count": 13,
   "id": "4efafc2c",
   "metadata": {},
   "outputs": [
    {
     "ename": "TypeError",
     "evalue": "'tuple' object does not support item assignment",
     "output_type": "error",
     "traceback": [
      "\u001b[1;31m---------------------------------------------------------------------------\u001b[0m",
      "\u001b[1;31mTypeError\u001b[0m                                 Traceback (most recent call last)",
      "Cell \u001b[1;32mIn[13], line 3\u001b[0m\n\u001b[0;32m      1\u001b[0m \u001b[38;5;66;03m#d\u001b[39;00m\n\u001b[0;32m      2\u001b[0m x \u001b[38;5;241m=\u001b[39m (\u001b[38;5;124m'\u001b[39m\u001b[38;5;124mabcd\u001b[39m\u001b[38;5;124m'\u001b[39m,\u001b[38;5;241m786\u001b[39m,\u001b[38;5;241m2.23\u001b[39m,\u001b[38;5;124m'\u001b[39m\u001b[38;5;124mjohn\u001b[39m\u001b[38;5;124m'\u001b[39m,\u001b[38;5;241m70.2\u001b[39m)\n\u001b[1;32m----> 3\u001b[0m x[\u001b[38;5;241m1\u001b[39m] \u001b[38;5;241m=\u001b[39m \u001b[38;5;241m100\u001b[39m\n\u001b[0;32m      4\u001b[0m b \u001b[38;5;241m=\u001b[39m x[\u001b[38;5;241m1\u001b[39m]\u001b[38;5;241m+\u001b[39mx[\u001b[38;5;241m2\u001b[39m]\n\u001b[0;32m      5\u001b[0m \u001b[38;5;28mprint\u001b[39m(b)\n",
      "\u001b[1;31mTypeError\u001b[0m: 'tuple' object does not support item assignment"
     ]
    }
   ],
   "source": [
    "#d\n",
    "x = ('abcd',786,2.23,'john',70.2)\n",
    "x[1] = 100\n",
    "b = x[1]+x[2]\n",
    "print(b)"
   ]
  },
  {
   "cell_type": "code",
   "execution_count": 14,
   "id": "ce408cfd",
   "metadata": {},
   "outputs": [
    {
     "ename": "TypeError",
     "evalue": "unsupported operand type(s) for +: 'set' and 'str'",
     "output_type": "error",
     "traceback": [
      "\u001b[1;31m---------------------------------------------------------------------------\u001b[0m",
      "\u001b[1;31mTypeError\u001b[0m                                 Traceback (most recent call last)",
      "Cell \u001b[1;32mIn[14], line 4\u001b[0m\n\u001b[0;32m      1\u001b[0m \u001b[38;5;66;03m#5\u001b[39;00m\n\u001b[0;32m      2\u001b[0m \u001b[38;5;66;03m#a\u001b[39;00m\n\u001b[0;32m      3\u001b[0m x \u001b[38;5;241m=\u001b[39m {\u001b[38;5;124m'\u001b[39m\u001b[38;5;124mabcd\u001b[39m\u001b[38;5;124m'\u001b[39m,\u001b[38;5;241m786\u001b[39m,\u001b[38;5;241m2.23\u001b[39m,\u001b[38;5;124m'\u001b[39m\u001b[38;5;124mjohn\u001b[39m\u001b[38;5;124m'\u001b[39m,\u001b[38;5;241m70.2\u001b[39m}\n\u001b[1;32m----> 4\u001b[0m b \u001b[38;5;241m=\u001b[39m x \u001b[38;5;241m+\u001b[39m \u001b[38;5;124m'\u001b[39m\u001b[38;5;124mHello\u001b[39m\u001b[38;5;124m'\u001b[39m\n\u001b[0;32m      5\u001b[0m \u001b[38;5;28mprint\u001b[39m(b)\n",
      "\u001b[1;31mTypeError\u001b[0m: unsupported operand type(s) for +: 'set' and 'str'"
     ]
    }
   ],
   "source": [
    "#5\n",
    "#a\n",
    "x = {'abcd',786,2.23,'john',70.2}\n",
    "b = x + 'Hello'\n",
    "print(b)"
   ]
  },
  {
   "cell_type": "code",
   "execution_count": 16,
   "id": "c4a125c1",
   "metadata": {},
   "outputs": [
    {
     "ename": "TypeError",
     "evalue": "unsupported operand type(s) for *: 'set' and 'int'",
     "output_type": "error",
     "traceback": [
      "\u001b[1;31m---------------------------------------------------------------------------\u001b[0m",
      "\u001b[1;31mTypeError\u001b[0m                                 Traceback (most recent call last)",
      "Cell \u001b[1;32mIn[16], line 3\u001b[0m\n\u001b[0;32m      1\u001b[0m \u001b[38;5;66;03m#b\u001b[39;00m\n\u001b[0;32m      2\u001b[0m x \u001b[38;5;241m=\u001b[39m {\u001b[38;5;124m'\u001b[39m\u001b[38;5;124mabcd\u001b[39m\u001b[38;5;124m'\u001b[39m,\u001b[38;5;241m786\u001b[39m,\u001b[38;5;241m2.23\u001b[39m,\u001b[38;5;124m'\u001b[39m\u001b[38;5;124mjohn\u001b[39m\u001b[38;5;124m'\u001b[39m,\u001b[38;5;241m70.2\u001b[39m}\n\u001b[1;32m----> 3\u001b[0m b \u001b[38;5;241m=\u001b[39m x\u001b[38;5;241m*\u001b[39m\u001b[38;5;241m2\u001b[39m\n\u001b[0;32m      4\u001b[0m \u001b[38;5;28mprint\u001b[39m(b)\n",
      "\u001b[1;31mTypeError\u001b[0m: unsupported operand type(s) for *: 'set' and 'int'"
     ]
    }
   ],
   "source": [
    "#b\n",
    "x = {'abcd',786,2.23,'john',70.2}\n",
    "b = x*2\n",
    "print(b)"
   ]
  },
  {
   "cell_type": "code",
   "execution_count": 17,
   "id": "7459437a",
   "metadata": {},
   "outputs": [
    {
     "ename": "TypeError",
     "evalue": "'set' object is not subscriptable",
     "output_type": "error",
     "traceback": [
      "\u001b[1;31m---------------------------------------------------------------------------\u001b[0m",
      "\u001b[1;31mTypeError\u001b[0m                                 Traceback (most recent call last)",
      "Cell \u001b[1;32mIn[17], line 3\u001b[0m\n\u001b[0;32m      1\u001b[0m \u001b[38;5;66;03m#c\u001b[39;00m\n\u001b[0;32m      2\u001b[0m x \u001b[38;5;241m=\u001b[39m {\u001b[38;5;124m'\u001b[39m\u001b[38;5;124mabcd\u001b[39m\u001b[38;5;124m'\u001b[39m,\u001b[38;5;241m786\u001b[39m,\u001b[38;5;241m2.23\u001b[39m,\u001b[38;5;124m'\u001b[39m\u001b[38;5;124mjohn\u001b[39m\u001b[38;5;124m'\u001b[39m,\u001b[38;5;241m70.2\u001b[39m}\n\u001b[1;32m----> 3\u001b[0m b \u001b[38;5;241m=\u001b[39m x[\u001b[38;5;241m1\u001b[39m]\u001b[38;5;241m+\u001b[39mx[\u001b[38;5;241m2\u001b[39m]\n\u001b[0;32m      4\u001b[0m \u001b[38;5;28mprint\u001b[39m(b)\n",
      "\u001b[1;31mTypeError\u001b[0m: 'set' object is not subscriptable"
     ]
    }
   ],
   "source": [
    "#c\n",
    "x = {'abcd',786,2.23,'john',70.2}\n",
    "b = x[1]+x[2]\n",
    "print(b)"
   ]
  },
  {
   "cell_type": "code",
   "execution_count": 18,
   "id": "b0ceae04",
   "metadata": {},
   "outputs": [
    {
     "ename": "TypeError",
     "evalue": "'set' object does not support item assignment",
     "output_type": "error",
     "traceback": [
      "\u001b[1;31m---------------------------------------------------------------------------\u001b[0m",
      "\u001b[1;31mTypeError\u001b[0m                                 Traceback (most recent call last)",
      "Cell \u001b[1;32mIn[18], line 3\u001b[0m\n\u001b[0;32m      1\u001b[0m \u001b[38;5;66;03m#d\u001b[39;00m\n\u001b[0;32m      2\u001b[0m x \u001b[38;5;241m=\u001b[39m {\u001b[38;5;124m'\u001b[39m\u001b[38;5;124mabcd\u001b[39m\u001b[38;5;124m'\u001b[39m,\u001b[38;5;241m786\u001b[39m,\u001b[38;5;241m2.23\u001b[39m,\u001b[38;5;124m'\u001b[39m\u001b[38;5;124mjohn\u001b[39m\u001b[38;5;124m'\u001b[39m,\u001b[38;5;241m70.2\u001b[39m}\n\u001b[1;32m----> 3\u001b[0m x[\u001b[38;5;241m1\u001b[39m] \u001b[38;5;241m=\u001b[39m \u001b[38;5;241m100\u001b[39m\n\u001b[0;32m      4\u001b[0m b \u001b[38;5;241m=\u001b[39m x[\u001b[38;5;241m1\u001b[39m]\u001b[38;5;241m+\u001b[39mx[\u001b[38;5;241m2\u001b[39m]\n\u001b[0;32m      5\u001b[0m \u001b[38;5;28mprint\u001b[39m(b)\n",
      "\u001b[1;31mTypeError\u001b[0m: 'set' object does not support item assignment"
     ]
    }
   ],
   "source": [
    "#d\n",
    "x = {'abcd',786,2.23,'john',70.2}\n",
    "x[1] = 100\n",
    "b = x[1]+x[2]\n",
    "print(b)"
   ]
  },
  {
   "cell_type": "code",
   "execution_count": 19,
   "id": "38694a01",
   "metadata": {},
   "outputs": [
    {
     "name": "stdout",
     "output_type": "stream",
     "text": [
      "1.0\n"
     ]
    }
   ],
   "source": [
    "#6\n",
    "#a\n",
    "x = 6/3/2\n",
    "print(x)"
   ]
  },
  {
   "cell_type": "code",
   "execution_count": 20,
   "id": "277526ff",
   "metadata": {},
   "outputs": [
    {
     "name": "stdout",
     "output_type": "stream",
     "text": [
      "-10\n",
      "0.03125\n"
     ]
    }
   ],
   "source": [
    "#b\n",
    "x=2\n",
    "a = x*-5\n",
    "b = x**-5\n",
    "print(a)\n",
    "print(b)"
   ]
  },
  {
   "cell_type": "code",
   "execution_count": 21,
   "id": "10314759",
   "metadata": {},
   "outputs": [
    {
     "name": "stdout",
     "output_type": "stream",
     "text": [
      "20.0\n"
     ]
    }
   ],
   "source": [
    "#c\n",
    "x = (7+3)*10/5\n",
    "print(x)"
   ]
  },
  {
   "cell_type": "code",
   "execution_count": 22,
   "id": "fcb92abe",
   "metadata": {},
   "outputs": [
    {
     "name": "stdout",
     "output_type": "stream",
     "text": [
      "5\n",
      "5.4\n"
     ]
    }
   ],
   "source": [
    "#d\n",
    "a = 27//5\n",
    "b = 27/5\n",
    "print(a)\n",
    "print(b)"
   ]
  },
  {
   "cell_type": "code",
   "execution_count": 23,
   "id": "cf0166e6",
   "metadata": {},
   "outputs": [
    {
     "name": "stdout",
     "output_type": "stream",
     "text": [
      "False\n"
     ]
    }
   ],
   "source": [
    "#7\n",
    "#a\n",
    "x = (10<5) and ((5/0)<10)\n",
    "print(x)"
   ]
  },
  {
   "cell_type": "code",
   "execution_count": 26,
   "id": "1f8f4795",
   "metadata": {},
   "outputs": [
    {
     "name": "stdout",
     "output_type": "stream",
     "text": [
      "False\n"
     ]
    }
   ],
   "source": [
    "#b\n",
    "x = (10>5) and ((5/0)<10)\n",
    "print(x)"
   ]
  },
  {
   "cell_type": "code",
   "execution_count": 27,
   "id": "a4e21e51",
   "metadata": {},
   "outputs": [
    {
     "ename": "ZeroDivisionError",
     "evalue": "division by zero",
     "output_type": "error",
     "traceback": [
      "\u001b[1;31m---------------------------------------------------------------------------\u001b[0m",
      "\u001b[1;31mZeroDivisionError\u001b[0m                         Traceback (most recent call last)",
      "Cell \u001b[1;32mIn[27], line 2\u001b[0m\n\u001b[0;32m      1\u001b[0m \u001b[38;5;66;03m#c\u001b[39;00m\n\u001b[1;32m----> 2\u001b[0m x \u001b[38;5;241m=\u001b[39m \u001b[38;5;129;01mnot\u001b[39;00m (\u001b[38;5;241m10\u001b[39m\u001b[38;5;241m<\u001b[39m\u001b[38;5;241m5\u001b[39m) \u001b[38;5;129;01mand\u001b[39;00m ((\u001b[38;5;241m5\u001b[39m\u001b[38;5;241m/\u001b[39m\u001b[38;5;241m0\u001b[39m)\u001b[38;5;241m<\u001b[39m\u001b[38;5;241m10\u001b[39m)\n\u001b[0;32m      3\u001b[0m \u001b[38;5;28mprint\u001b[39m(x)\n",
      "\u001b[1;31mZeroDivisionError\u001b[0m: division by zero"
     ]
    }
   ],
   "source": [
    "#c\n",
    "x = not (10<5) and ((5/0)<10)\n",
    "print(x)"
   ]
  },
  {
   "cell_type": "code",
   "execution_count": 28,
   "id": "ab946a8b",
   "metadata": {},
   "outputs": [
    {
     "name": "stdout",
     "output_type": "stream",
     "text": [
      "True\n"
     ]
    }
   ],
   "source": [
    "#d\n",
    "x = (10>5) or ((5/0)<10)\n",
    "print(x)"
   ]
  },
  {
   "cell_type": "code",
   "execution_count": 29,
   "id": "74828a22",
   "metadata": {},
   "outputs": [
    {
     "data": {
      "text/plain": [
       "True"
      ]
     },
     "execution_count": 29,
     "metadata": {},
     "output_type": "execute_result"
    }
   ],
   "source": [
    "#8\n",
    "#a \n",
    "5%10+10<50 and 29>=29"
   ]
  },
  {
   "cell_type": "code",
   "execution_count": 30,
   "id": "a195fb60",
   "metadata": {},
   "outputs": [
    {
     "data": {
      "text/plain": [
       "False"
      ]
     },
     "execution_count": 30,
     "metadata": {},
     "output_type": "execute_result"
    }
   ],
   "source": [
    "#b\n",
    "7**2 <=5 // 9 %3 or 'bye'<'Bye'"
   ]
  },
  {
   "cell_type": "code",
   "execution_count": 31,
   "id": "c3344517",
   "metadata": {},
   "outputs": [
    {
     "data": {
      "text/plain": [
       "False"
      ]
     },
     "execution_count": 31,
     "metadata": {},
     "output_type": "execute_result"
    }
   ],
   "source": [
    "#c\n",
    "5%10 < 10 and -25 > 1 * 8 //5"
   ]
  },
  {
   "cell_type": "code",
   "execution_count": 32,
   "id": "9382bab9",
   "metadata": {},
   "outputs": [
    {
     "data": {
      "text/plain": [
       "True"
      ]
     },
     "execution_count": 32,
     "metadata": {},
     "output_type": "execute_result"
    }
   ],
   "source": [
    "#d\n",
    "7**2 // 4+5 > 8 or 5 !=6\n"
   ]
  },
  {
   "cell_type": "code",
   "execution_count": 34,
   "id": "1665c896",
   "metadata": {},
   "outputs": [
    {
     "data": {
      "text/plain": [
       "False"
      ]
     },
     "execution_count": 34,
     "metadata": {},
     "output_type": "execute_result"
    }
   ],
   "source": [
    "#e\n",
    "7/4 <6 and 'I am fine' >'I am not fine'"
   ]
  },
  {
   "cell_type": "code",
   "execution_count": 35,
   "id": "d6ba053e",
   "metadata": {},
   "outputs": [
    {
     "data": {
      "text/plain": [
       "True"
      ]
     },
     "execution_count": 35,
     "metadata": {},
     "output_type": "execute_result"
    }
   ],
   "source": [
    "#f\n",
    "10+6 * 2 ** 2 !=9//44-3 and 29 >=29/9"
   ]
  },
  {
   "cell_type": "code",
   "execution_count": 36,
   "id": "9d343356",
   "metadata": {},
   "outputs": [
    {
     "data": {
      "text/plain": [
       "True"
      ]
     },
     "execution_count": 36,
     "metadata": {},
     "output_type": "execute_result"
    }
   ],
   "source": [
    "#g\n",
    "'hello'*5 >'hello' or 'bye' <'Bye'"
   ]
  },
  {
   "cell_type": "code",
   "execution_count": 38,
   "id": "f41ee141",
   "metadata": {},
   "outputs": [
    {
     "name": "stdout",
     "output_type": "stream",
     "text": [
      "30\n",
      "40\n"
     ]
    }
   ],
   "source": [
    "#9\n",
    "x = 10\n",
    "x += x + 10\n",
    "print(x)\n",
    "x = x +10\n",
    "print(x)"
   ]
  },
  {
   "cell_type": "code",
   "execution_count": 39,
   "id": "fe18eec4",
   "metadata": {},
   "outputs": [],
   "source": [
    "#10\n",
    "# Python kewords are : and, class, pass, if, not"
   ]
  },
  {
   "cell_type": "code",
   "execution_count": null,
   "id": "4de51157",
   "metadata": {},
   "outputs": [],
   "source": []
  }
 ],
 "metadata": {
  "kernelspec": {
   "display_name": "Python 3 (ipykernel)",
   "language": "python",
   "name": "python3"
  },
  "language_info": {
   "codemirror_mode": {
    "name": "ipython",
    "version": 3
   },
   "file_extension": ".py",
   "mimetype": "text/x-python",
   "name": "python",
   "nbconvert_exporter": "python",
   "pygments_lexer": "ipython3",
   "version": "3.11.3"
  }
 },
 "nbformat": 4,
 "nbformat_minor": 5
}
