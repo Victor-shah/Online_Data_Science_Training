{
 "cells": [
  {
   "cell_type": "code",
   "execution_count": 2,
   "id": "49799de0",
   "metadata": {},
   "outputs": [
    {
     "name": "stdout",
     "output_type": "stream",
     "text": [
      "Enter a positive number 5\n",
      "The square of the number is  25\n",
      "The cube of the number is  125\n"
     ]
    }
   ],
   "source": [
    "#2\n",
    "a = int(input(\"Enter a positive number \"))\n",
    "sqr = a*a\n",
    "cube = sqr*a\n",
    "print(\"The square of the number is \",sqr)\n",
    "print(\"The cube of the number is \",cube)"
   ]
  },
  {
   "cell_type": "code",
   "execution_count": 4,
   "id": "50d07989",
   "metadata": {},
   "outputs": [
    {
     "name": "stdout",
     "output_type": "stream",
     "text": [
      "B is greater than A\n"
     ]
    }
   ],
   "source": [
    "#3\n",
    "a,b = 5,6\n",
    "if a>b :\n",
    "    print(\"A is greater than B\")\n",
    "else :\n",
    "    print(\"B is greater than A\")"
   ]
  },
  {
   "cell_type": "code",
   "execution_count": 6,
   "id": "3a8e4a85",
   "metadata": {},
   "outputs": [
    {
     "name": "stdout",
     "output_type": "stream",
     "text": [
      "Enter the number 5\n",
      "The number is odd\n"
     ]
    }
   ],
   "source": [
    "#4\n",
    "n = int(input(\"Enter the number \"))\n",
    "if n%2==0:\n",
    "    print(\"The number is even\")\n",
    "else:\n",
    "    print(\"The number is odd\")"
   ]
  },
  {
   "cell_type": "code",
   "execution_count": 7,
   "id": "f8445a4f",
   "metadata": {},
   "outputs": [
    {
     "name": "stdout",
     "output_type": "stream",
     "text": [
      "Enter the number 49\n",
      "The number is divisible by 7\n"
     ]
    }
   ],
   "source": [
    "#5\n",
    "n = int(input(\"Enter the number \"))\n",
    "if n%7==0:\n",
    "    print(\"The number is divisible by 7\")\n",
    "else :\n",
    "    print(\"The number is not divisible by 7\")"
   ]
  },
  {
   "cell_type": "code",
   "execution_count": 11,
   "id": "fedd7521",
   "metadata": {},
   "outputs": [
    {
     "name": "stdout",
     "output_type": "stream",
     "text": [
      "C is the greatest\n"
     ]
    }
   ],
   "source": [
    "#6\n",
    "a,b,c = 5,6,7\n",
    "if a>b and a>c:\n",
    "    print(\"A is the greatest\")\n",
    "elif b>c:\n",
    "    print(\"B is the greatest\")\n",
    "else:\n",
    "    print(\"C is the greatest\")"
   ]
  },
  {
   "cell_type": "code",
   "execution_count": 16,
   "id": "198cc26e",
   "metadata": {},
   "outputs": [
    {
     "name": "stdout",
     "output_type": "stream",
     "text": [
      "Enter the year 2100\n",
      "It is not a leap year\n"
     ]
    }
   ],
   "source": [
    "#7\n",
    "year = int(input(\"Enter the year \"))\n",
    "if year%400==0:\n",
    "    print(\"It is a leap year\")\n",
    "elif year%4==0 and year%100!=0:\n",
    "    print(\"It is a leap year\")\n",
    "else:\n",
    "    print(\"It is not a leap year\")"
   ]
  },
  {
   "cell_type": "code",
   "execution_count": 23,
   "id": "a1b7a5c2",
   "metadata": {},
   "outputs": [
    {
     "name": "stdout",
     "output_type": "stream",
     "text": [
      "Enter the number 121\n",
      "121\n",
      "The number is Palindrome\n"
     ]
    }
   ],
   "source": [
    "#8\n",
    "n = int(input(\"Enter the number \"))\n",
    "n1 = n\n",
    "c = 2\n",
    "sum1 = 0\n",
    "while n1>0:\n",
    "    rem = n1%10\n",
    "    sum1 += rem*(10**c)\n",
    "    n1 = n1//10\n",
    "    c -= 1\n",
    "print(sum1)\n",
    "if sum1 == n:\n",
    "    print(\"The number is Palindrome\")\n",
    "else:\n",
    "    print(\"The number is not Palindrome\")"
   ]
  },
  {
   "cell_type": "code",
   "execution_count": 25,
   "id": "c1ccbb3f",
   "metadata": {},
   "outputs": [
    {
     "name": "stdout",
     "output_type": "stream",
     "text": [
      "Enter the cost price 120\n",
      "Enter the selling price 100\n",
      "It is a loss\n"
     ]
    }
   ],
   "source": [
    "#9 \n",
    "cp = int(input(\"Enter the cost price \"))\n",
    "sp = int(input(\"Enter the selling price \"))\n",
    "if sp-cp <0:\n",
    "    print(\"It is a loss\")\n",
    "else:\n",
    "    print(\"It is a profit\")"
   ]
  },
  {
   "cell_type": "code",
   "execution_count": 26,
   "id": "46a41b4e",
   "metadata": {},
   "outputs": [
    {
     "ename": "SyntaxError",
     "evalue": "invalid syntax. Perhaps you forgot a comma? (1426236301.py, line 9)",
     "output_type": "error",
     "traceback": [
      "\u001b[1;36m  Cell \u001b[1;32mIn[26], line 9\u001b[1;36m\u001b[0m\n\u001b[1;33m    print(\"Grade is First Division and marks is ,\"avg)\u001b[0m\n\u001b[1;37m          ^\u001b[0m\n\u001b[1;31mSyntaxError\u001b[0m\u001b[1;31m:\u001b[0m invalid syntax. Perhaps you forgot a comma?\n"
     ]
    }
   ],
   "source": [
    "#10\n",
    "phy = int(input(\"Enter physics marks \"))\n",
    "chem = int(input(\"Enter chemistry marks \"))\n",
    "bio = int(input(\"Enter the biology marks \"))\n",
    "avg = (phy+chem+bio)/3\n",
    "if avg >=80:\n",
    "    print(\"Grade is distinction and marks is \",avg)\n",
    "elif avg >=60 and avg <80:\n",
    "    print(\"Grade is First Division and marks is ,\"avg)\n",
    "elif avg >=45 and avg <60:\n",
    "    print(\"Grade is First division and marks is ,\"avg)\n",
    "elif avg >=40 and avg <45:\n",
    "    print(\"Grade is Pass and marks is ,\"avg)\n",
    "else:\n",
    "    print(\"Grade is Promotion not Granted and marks is ,\"avg)\n"
   ]
  },
  {
   "cell_type": "code",
   "execution_count": null,
   "id": "e037c9c6",
   "metadata": {},
   "outputs": [],
   "source": []
  }
 ],
 "metadata": {
  "kernelspec": {
   "display_name": "Python 3 (ipykernel)",
   "language": "python",
   "name": "python3"
  },
  "language_info": {
   "codemirror_mode": {
    "name": "ipython",
    "version": 3
   },
   "file_extension": ".py",
   "mimetype": "text/x-python",
   "name": "python",
   "nbconvert_exporter": "python",
   "pygments_lexer": "ipython3",
   "version": "3.11.3"
  }
 },
 "nbformat": 4,
 "nbformat_minor": 5
}
